{
  "nbformat": 4,
  "nbformat_minor": 0,
  "metadata": {
    "colab": {
      "provenance": [],
      "authorship_tag": "ABX9TyOVWwZxDmel/PRf8waNmsd6",
      "include_colab_link": true
    },
    "kernelspec": {
      "name": "python3",
      "display_name": "Python 3"
    },
    "language_info": {
      "name": "python"
    }
  },
  "cells": [
    {
      "cell_type": "markdown",
      "metadata": {
        "id": "view-in-github",
        "colab_type": "text"
      },
      "source": [
        "<a href=\"https://colab.research.google.com/github/mohammed893/Tensor_Flow_Cheat_sheet-/blob/main/NN_Regression.ipynb\" target=\"_parent\"><img src=\"https://colab.research.google.com/assets/colab-badge.svg\" alt=\"Open In Colab\"/></a>"
      ]
    },
    {
      "cell_type": "code",
      "execution_count": 1,
      "metadata": {
        "id": "L6IKG0q5aDtI"
      },
      "outputs": [],
      "source": [
        "# Intro to Regression with NeuralNetworks in TensorFlow"
      ]
    },
    {
      "cell_type": "code",
      "source": [
        "#Import TensorFlow\n",
        "import tensorflow as tf\n",
        "print(tf.__version__)"
      ],
      "metadata": {
        "colab": {
          "base_uri": "https://localhost:8080/"
        },
        "id": "uDuTRvCqbFWd",
        "outputId": "d77727c0-715c-4460-8008-61a9f7885a03"
      },
      "execution_count": 2,
      "outputs": [
        {
          "output_type": "stream",
          "name": "stdout",
          "text": [
            "2.14.0\n"
          ]
        }
      ]
    },
    {
      "cell_type": "markdown",
      "source": [
        "## Creating Data to view and fit"
      ],
      "metadata": {
        "id": "VrN68grdbMwE"
      }
    },
    {
      "cell_type": "code",
      "source": [
        "import numpy as np\n",
        "import matplotlib.pyplot as plt\n",
        "\n",
        "#Create Features\n",
        "x = np.array([-7.0,-4.0 , -1.0 , 2.0 , 5.0 , 8.0 ,11.0 ,14.0 ])\n",
        "\n",
        "#Create Labels\n",
        "y = np.array([3.0 , 6.0 , 9.0 , 12.0 , 15.0 , 18.0 , 21.0 , 24.0 ])\n",
        "\n",
        "#Visualize it\n",
        "plt.scatter(x , y);\n"
      ],
      "metadata": {
        "colab": {
          "base_uri": "https://localhost:8080/",
          "height": 435
        },
        "id": "KvJBnxp8bh-v",
        "outputId": "6d43a014-ff40-4191-f951-2550317bff6a"
      },
      "execution_count": 3,
      "outputs": [
        {
          "output_type": "display_data",
          "data": {
            "text/plain": [
              "<Figure size 640x480 with 1 Axes>"
            ],
            "image/png": "[encoded data removed]"
          },
          "metadata": {}
        }
      ]
    },
    {
      "cell_type": "markdown",
      "source": [
        "#*INPUTS AND OUTPUTS SHAPES*\n",
        "\n"
      ],
      "metadata": {
        "id": "G_2APcqRcDKH"
      }
    },
    {
      "cell_type": "code",
      "source": [
        "#Creating a demo tensor for housing price prediction problem\n",
        "house_info = tf.constant(['bedroom' , 'bathroom' , 'garage'])\n",
        "house_price = tf.constant([939700])\n",
        "house_info , house_price"
      ],
      "metadata": {
        "colab": {
          "base_uri": "https://localhost:8080/"
        },
        "id": "IfdOFLmKdwBp",
        "outputId": "4ad8faec-dc69-471f-ad44-5799cc21c1e8"
      },
      "execution_count": 4,
      "outputs": [
        {
          "output_type": "execute_result",
          "data": {
            "text/plain": [
              "(<tf.Tensor: shape=(3,), dtype=string, numpy=array([b'bedroom', b'bathroom', b'garage'], dtype=object)>,\n",
              " <tf.Tensor: shape=(1,), dtype=int32, numpy=array([939700], dtype=int32)>)"
            ]
          },
          "metadata": {},
          "execution_count": 4
        }
      ]
    },
    {
      "cell_type": "markdown",
      "source": [
        "#Steps in modelling with tensorflow\n",
        "\n",
        "\n",
        "1.   Create the model - Define inputs , outputs Layers as well as the hidden layers of a DL Model\n",
        "2.   Compile a model - Define the >> *loss function* and the >> *optimizer*(Thing that tell that model how to improve the patterns its learning) and >> *Evaluation* metrics (What we can use to interpret the performance)\n",
        "\n",
        "3.   Fitting the Model\n",
        "\n",
        "\n"
      ],
      "metadata": {
        "id": "WS1aOYXOfsNG"
      }
    },
    {
      "cell_type": "markdown",
      "source": [
        "# Evaluating A model"
      ],
      "metadata": {
        "id": "7iWHOCeKjF-d"
      }
    },
    {
      "cell_type": "code",
      "source": [
        "#Make a bigger DataSet\n",
        "x = tf.range(-100 , 100 , 4)\n",
        "x"
      ],
      "metadata": {
        "colab": {
          "base_uri": "https://localhost:8080/"
        },
        "id": "rhT4YEm6wB1Z",
        "outputId": "ffd20007-6afd-4052-f0c4-07cff3673dec"
      },
      "execution_count": 5,
      "outputs": [
        {
          "output_type": "execute_result",
          "data": {
            "text/plain": [
              "<tf.Tensor: shape=(50,), dtype=int32, numpy=\n",
              "array([-100,  -96,  -92,  -88,  -84,  -80,  -76,  -72,  -68,  -64,  -60,\n",
              "        -56,  -52,  -48,  -44,  -40,  -36,  -32,  -28,  -24,  -20,  -16,\n",
              "        -12,   -8,   -4,    0,    4,    8,   12,   16,   20,   24,   28,\n",
              "         32,   36,   40,   44,   48,   52,   56,   60,   64,   68,   72,\n",
              "         76,   80,   84,   88,   92,   96], dtype=int32)>"
            ]
          },
          "metadata": {},
          "execution_count": 5
        }
      ]
    },
    {
      "cell_type": "code",
      "source": [
        "# Make Labels for the data set\n",
        "y = x + 10\n",
        "y"
      ],
      "metadata": {
        "colab": {
          "base_uri": "https://localhost:8080/"
        },
        "id": "SM4XMxIUwIp-",
        "outputId": "db65b4c8-401b-4738-9efb-5741f064c16d"
      },
      "execution_count": 6,
      "outputs": [
        {
          "output_type": "execute_result",
          "data": {
            "text/plain": [
              "<tf.Tensor: shape=(50,), dtype=int32, numpy=\n",
              "array([-90, -86, -82, -78, -74, -70, -66, -62, -58, -54, -50, -46, -42,\n",
              "       -38, -34, -30, -26, -22, -18, -14, -10,  -6,  -2,   2,   6,  10,\n",
              "        14,  18,  22,  26,  30,  34,  38,  42,  46,  50,  54,  58,  62,\n",
              "        66,  70,  74,  78,  82,  86,  90,  94,  98, 102, 106], dtype=int32)>"
            ]
          },
          "metadata": {},
          "execution_count": 6
        }
      ]
    },
    {
      "cell_type": "code",
      "source": [
        "#Visualize the Data\n",
        "import matplotlib.pyplot as plt\n",
        "plt.scatter(x , y)"
      ],
      "metadata": {
        "colab": {
          "base_uri": "https://localhost:8080/",
          "height": 447
        },
        "id": "jOmu-5UUwQgT",
        "outputId": "85236bc6-5530-4abc-9aab-630ed07bcd15"
      },
      "execution_count": 7,
      "outputs": [
        {
          "output_type": "execute_result",
          "data": {
            "text/plain": [
              "<matplotlib.collections.PathCollection at 0x77fe0321d930>"
            ]
          },
          "metadata": {},
          "execution_count": 7
        },
        {
          "output_type": "display_data",
          "data": {
            "text/plain": [
              "<Figure size 640x480 with 1 Axes>"
            ],
            "image/png": "[encoded data removed]"
          },
          "metadata": {}
        }
      ]
    },
    {
      "cell_type": "code",
      "source": [
        "### The 3 Sets ... Training Set , Validation Set , Test Set\n",
        "\n"
      ],
      "metadata": {
        "id": "tGBAQQ4iwcQq"
      },
      "execution_count": 8,
      "outputs": []
    },
    {
      "cell_type": "code",
      "source": [
        "#Check the length\n",
        "len(x) , len(y)"
      ],
      "metadata": {
        "colab": {
          "base_uri": "https://localhost:8080/"
        },
        "id": "hm1EJc0VxUWx",
        "outputId": "c6d7e6b6-1548-4995-9089-ed752fb19ca1"
      },
      "execution_count": 9,
      "outputs": [
        {
          "output_type": "execute_result",
          "data": {
            "text/plain": [
              "(50, 50)"
            ]
          },
          "metadata": {},
          "execution_count": 9
        }
      ]
    },
    {
      "cell_type": "code",
      "source": [
        "#Split the data into train and test sets\n",
        "x_train = x[:40] #First 40\n",
        "x_test  = x[40:] #Last 10\n",
        "y_train = y[:40]\n",
        "y_test = y[40:]\n",
        "len(x_train) ,len(x_test) , len(y_train) , len(y_test )\n"
      ],
      "metadata": {
        "colab": {
          "base_uri": "https://localhost:8080/"
        },
        "id": "iYSuroJ4xX_d",
        "outputId": "3773f033-b526-4717-c17e-907cc3dd4bff"
      },
      "execution_count": 10,
      "outputs": [
        {
          "output_type": "execute_result",
          "data": {
            "text/plain": [
              "(40, 10, 40, 10)"
            ]
          },
          "metadata": {},
          "execution_count": 10
        }
      ]
    },
    {
      "cell_type": "code",
      "source": [
        "### Visualizing the Data\n",
        "plt.figure(figsize = (10 , 7))\n",
        "plt.scatter(x_train, y_train , c ='b' , label = \"Training\")\n",
        "plt.scatter(x_test, y_test , c ='g' , label = \"Test\")\n"
      ],
      "metadata": {
        "colab": {
          "base_uri": "https://localhost:8080/",
          "height": 616
        },
        "id": "BddzKkyux7_D",
        "outputId": "c856799b-8d5b-41aa-9d8f-1146ba44c208"
      },
      "execution_count": 11,
      "outputs": [
        {
          "output_type": "execute_result",
          "data": {
            "text/plain": [
              "<matplotlib.collections.PathCollection at 0x77fe00ed1450>"
            ]
          },
          "metadata": {},
          "execution_count": 11
        },
        {
          "output_type": "display_data",
          "data": {
            "text/plain": [
              "<Figure size 1000x700 with 1 Axes>"
            ],
            "image/png": "[encoded data removed]"
          },
          "metadata": {}
        }
      ]
    },
    {
      "cell_type": "code",
      "source": [
        "from keras.src.backend import learning_phase\n",
        "from tensorflow.python.ops.gen_nn_ops import lrn\n",
        "#Let's build a neural network for our data\n",
        "model = tf.keras.Sequential([tf.keras.layers.Dense(10 , input_shape = [1] , name = 'InPut') ,\n",
        "                             tf.keras.layers.Dense(1, activation='relu', input_shape=[1]),\n",
        "                             tf.keras.layers.Dense(1 , name = \"Out\")] , name = \"One_of_my_Models\")\n",
        "#Compile the model\n",
        "model.compile(loss = tf.keras.losses.mae ,\n",
        "              optimizer =tf.keras.optimizers.SGD(learning_rate=0.001) ,\n",
        "              metrics=[\"mae\"] ,\n",
        "              )\n",
        "# #Fit the model\n",
        "model.fit(x_train , y_train , epochs = 110)"
      ],
      "metadata": {
        "colab": {
          "base_uri": "https://localhost:8080/"
        },
        "id": "PhjAA1WgytiS",
        "outputId": "7ffc234a-499f-477c-d4d2-321e68c0299e"
      },
      "execution_count": 20,
      "outputs": [
        {
          "output_type": "stream",
          "name": "stdout",
          "text": [
            "Epoch 1/110\n",
            "2/2 [==============================] - 0s 8ms/step - loss: 34.5910 - mae: 34.5910\n",
            "Epoch 2/110\n",
            "2/2 [==============================] - 0s 7ms/step - loss: 33.3040 - mae: 33.3040\n",
            "Epoch 3/110\n",
            "2/2 [==============================] - 0s 7ms/step - loss: 31.9852 - mae: 31.9852\n",
            "Epoch 4/110\n",
            "2/2 [==============================] - 0s 7ms/step - loss: 30.7957 - mae: 30.7957\n",
            "Epoch 5/110\n",
            "2/2 [==============================] - 0s 7ms/step - loss: 29.6525 - mae: 29.6525\n",
            "Epoch 6/110\n",
            "2/2 [==============================] - 0s 6ms/step - loss: 28.5362 - mae: 28.5362\n",
            "Epoch 7/110\n",
            "2/2 [==============================] - 0s 6ms/step - loss: 28.3302 - mae: 28.3302\n",
            "Epoch 8/110\n",
            "2/2 [==============================] - 0s 8ms/step - loss: 28.2799 - mae: 28.2799\n",
            "Epoch 9/110\n",
            "2/2 [==============================] - 0s 7ms/step - loss: 28.3970 - mae: 28.3970\n",
            "Epoch 10/110\n",
            "2/2 [==============================] - 0s 7ms/step - loss: 28.7800 - mae: 28.7800\n",
            "Epoch 11/110\n",
            "2/2 [==============================] - 0s 7ms/step - loss: 28.3633 - mae: 28.3633\n",
            "Epoch 12/110\n",
            "2/2 [==============================] - 0s 6ms/step - loss: 28.3992 - mae: 28.3992\n",
            "Epoch 13/110\n",
            "2/2 [==============================] - 0s 6ms/step - loss: 28.3022 - mae: 28.3022\n",
            "Epoch 14/110\n",
            "2/2 [==============================] - 0s 6ms/step - loss: 28.3619 - mae: 28.3619\n",
            "Epoch 15/110\n",
            "2/2 [==============================] - 0s 6ms/step - loss: 28.4054 - mae: 28.4054\n",
            "Epoch 16/110\n",
            "2/2 [==============================] - 0s 7ms/step - loss: 28.2921 - mae: 28.2921\n",
            "Epoch 17/110\n",
            "2/2 [==============================] - 0s 7ms/step - loss: 28.3180 - mae: 28.3180\n",
            "Epoch 18/110\n",
            "2/2 [==============================] - 0s 7ms/step - loss: 28.3813 - mae: 28.3813\n",
            "Epoch 19/110\n",
            "2/2 [==============================] - 0s 7ms/step - loss: 28.2676 - mae: 28.2676\n",
            "Epoch 20/110\n",
            "2/2 [==============================] - 0s 7ms/step - loss: 28.2886 - mae: 28.2886\n",
            "Epoch 21/110\n",
            "2/2 [==============================] - 0s 7ms/step - loss: 28.2985 - mae: 28.2985\n",
            "Epoch 22/110\n",
            "2/2 [==============================] - 0s 7ms/step - loss: 28.3010 - mae: 28.3010\n",
            "Epoch 23/110\n",
            "2/2 [==============================] - 0s 7ms/step - loss: 28.3723 - mae: 28.3723\n",
            "Epoch 24/110\n",
            "2/2 [==============================] - 0s 8ms/step - loss: 28.4774 - mae: 28.4774\n",
            "Epoch 25/110\n",
            "2/2 [==============================] - 0s 7ms/step - loss: 28.3169 - mae: 28.3169\n",
            "Epoch 26/110\n",
            "2/2 [==============================] - 0s 7ms/step - loss: 28.3590 - mae: 28.3590\n",
            "Epoch 27/110\n",
            "2/2 [==============================] - 0s 8ms/step - loss: 28.3392 - mae: 28.3392\n",
            "Epoch 28/110\n",
            "2/2 [==============================] - 0s 7ms/step - loss: 28.6840 - mae: 28.6840\n",
            "Epoch 29/110\n",
            "2/2 [==============================] - 0s 8ms/step - loss: 28.3006 - mae: 28.3006\n",
            "Epoch 30/110\n",
            "2/2 [==============================] - 0s 7ms/step - loss: 28.4125 - mae: 28.4125\n",
            "Epoch 31/110\n",
            "2/2 [==============================] - 0s 10ms/step - loss: 28.6377 - mae: 28.6377\n",
            "Epoch 32/110\n",
            "2/2 [==============================] - 0s 5ms/step - loss: 28.4813 - mae: 28.4813\n",
            "Epoch 33/110\n",
            "2/2 [==============================] - 0s 6ms/step - loss: 28.2590 - mae: 28.2590\n",
            "Epoch 34/110\n",
            "2/2 [==============================] - 0s 7ms/step - loss: 28.3627 - mae: 28.3627\n",
            "Epoch 35/110\n",
            "2/2 [==============================] - 0s 8ms/step - loss: 28.3328 - mae: 28.3328\n",
            "Epoch 36/110\n",
            "2/2 [==============================] - 0s 7ms/step - loss: 28.5409 - mae: 28.5409\n",
            "Epoch 37/110\n",
            "2/2 [==============================] - 0s 7ms/step - loss: 28.3016 - mae: 28.3016\n",
            "Epoch 38/110\n",
            "2/2 [==============================] - 0s 8ms/step - loss: 28.2961 - mae: 28.2961\n",
            "Epoch 39/110\n",
            "2/2 [==============================] - 0s 8ms/step - loss: 28.3069 - mae: 28.3069\n",
            "Epoch 40/110\n",
            "2/2 [==============================] - 0s 7ms/step - loss: 28.3458 - mae: 28.3458\n",
            "Epoch 41/110\n",
            "2/2 [==============================] - 0s 7ms/step - loss: 28.3934 - mae: 28.3934\n",
            "Epoch 42/110\n",
            "2/2 [==============================] - 0s 8ms/step - loss: 28.6704 - mae: 28.6704\n",
            "Epoch 43/110\n",
            "2/2 [==============================] - 0s 7ms/step - loss: 28.4168 - mae: 28.4168\n",
            "Epoch 44/110\n",
            "2/2 [==============================] - 0s 8ms/step - loss: 28.4306 - mae: 28.4306\n",
            "Epoch 45/110\n",
            "2/2 [==============================] - 0s 7ms/step - loss: 28.2577 - mae: 28.2577\n",
            "Epoch 46/110\n",
            "2/2 [==============================] - 0s 9ms/step - loss: 28.2561 - mae: 28.2561\n",
            "Epoch 47/110\n",
            "2/2 [==============================] - 0s 7ms/step - loss: 28.2788 - mae: 28.2788\n",
            "Epoch 48/110\n",
            "2/2 [==============================] - 0s 10ms/step - loss: 28.2910 - mae: 28.2910\n",
            "Epoch 49/110\n",
            "2/2 [==============================] - 0s 7ms/step - loss: 28.2816 - mae: 28.2816\n",
            "Epoch 50/110\n",
            "2/2 [==============================] - 0s 6ms/step - loss: 28.3918 - mae: 28.3918\n",
            "Epoch 51/110\n",
            "2/2 [==============================] - 0s 7ms/step - loss: 28.2802 - mae: 28.2802\n",
            "Epoch 52/110\n",
            "2/2 [==============================] - 0s 7ms/step - loss: 28.2692 - mae: 28.2692\n",
            "Epoch 53/110\n",
            "2/2 [==============================] - 0s 6ms/step - loss: 28.2600 - mae: 28.2600\n",
            "Epoch 54/110\n",
            "2/2 [==============================] - 0s 7ms/step - loss: 28.2643 - mae: 28.2643\n",
            "Epoch 55/110\n",
            "2/2 [==============================] - 0s 7ms/step - loss: 28.2845 - mae: 28.2845\n",
            "Epoch 56/110\n",
            "2/2 [==============================] - 0s 7ms/step - loss: 28.2772 - mae: 28.2772\n",
            "Epoch 57/110\n",
            "2/2 [==============================] - 0s 7ms/step - loss: 28.3506 - mae: 28.3506\n",
            "Epoch 58/110\n",
            "2/2 [==============================] - 0s 7ms/step - loss: 28.2506 - mae: 28.2506\n",
            "Epoch 59/110\n",
            "2/2 [==============================] - 0s 7ms/step - loss: 28.2551 - mae: 28.2551\n",
            "Epoch 60/110\n",
            "2/2 [==============================] - 0s 11ms/step - loss: 28.3448 - mae: 28.3448\n",
            "Epoch 61/110\n",
            "2/2 [==============================] - 0s 9ms/step - loss: 28.3046 - mae: 28.3046\n",
            "Epoch 62/110\n",
            "2/2 [==============================] - 0s 8ms/step - loss: 28.2765 - mae: 28.2765\n",
            "Epoch 63/110\n",
            "2/2 [==============================] - 0s 7ms/step - loss: 28.2750 - mae: 28.2750\n",
            "Epoch 64/110\n",
            "2/2 [==============================] - 0s 9ms/step - loss: 28.2594 - mae: 28.2594\n",
            "Epoch 65/110\n",
            "2/2 [==============================] - 0s 7ms/step - loss: 28.2858 - mae: 28.2858\n",
            "Epoch 66/110\n",
            "2/2 [==============================] - 0s 9ms/step - loss: 28.2850 - mae: 28.2850\n",
            "Epoch 67/110\n",
            "2/2 [==============================] - 0s 9ms/step - loss: 28.3649 - mae: 28.3649\n",
            "Epoch 68/110\n",
            "2/2 [==============================] - 0s 6ms/step - loss: 28.4038 - mae: 28.4038\n",
            "Epoch 69/110\n",
            "2/2 [==============================] - 0s 7ms/step - loss: 28.2676 - mae: 28.2676\n",
            "Epoch 70/110\n",
            "2/2 [==============================] - 0s 8ms/step - loss: 28.3220 - mae: 28.3220\n",
            "Epoch 71/110\n",
            "2/2 [==============================] - 0s 9ms/step - loss: 28.2615 - mae: 28.2615\n",
            "Epoch 72/110\n",
            "2/2 [==============================] - 0s 7ms/step - loss: 28.3928 - mae: 28.3928\n",
            "Epoch 73/110\n",
            "2/2 [==============================] - 0s 7ms/step - loss: 28.3486 - mae: 28.3486\n",
            "Epoch 74/110\n",
            "2/2 [==============================] - 0s 7ms/step - loss: 28.2742 - mae: 28.2742\n",
            "Epoch 75/110\n",
            "2/2 [==============================] - 0s 10ms/step - loss: 28.2630 - mae: 28.2630\n",
            "Epoch 76/110\n",
            "2/2 [==============================] - 0s 7ms/step - loss: 28.2389 - mae: 28.2389\n",
            "Epoch 77/110\n",
            "2/2 [==============================] - 0s 7ms/step - loss: 28.2626 - mae: 28.2626\n",
            "Epoch 78/110\n",
            "2/2 [==============================] - 0s 10ms/step - loss: 28.3161 - mae: 28.3161\n",
            "Epoch 79/110\n",
            "2/2 [==============================] - 0s 7ms/step - loss: 28.3759 - mae: 28.3759\n",
            "Epoch 80/110\n",
            "2/2 [==============================] - 0s 7ms/step - loss: 28.2840 - mae: 28.2840\n",
            "Epoch 81/110\n",
            "2/2 [==============================] - 0s 7ms/step - loss: 28.2636 - mae: 28.2636\n",
            "Epoch 82/110\n",
            "2/2 [==============================] - 0s 7ms/step - loss: 28.2497 - mae: 28.2497\n",
            "Epoch 83/110\n",
            "2/2 [==============================] - 0s 7ms/step - loss: 28.2737 - mae: 28.2737\n",
            "Epoch 84/110\n",
            "2/2 [==============================] - 0s 8ms/step - loss: 28.2731 - mae: 28.2731\n",
            "Epoch 85/110\n",
            "2/2 [==============================] - 0s 7ms/step - loss: 28.2774 - mae: 28.2774\n",
            "Epoch 86/110\n",
            "2/2 [==============================] - 0s 7ms/step - loss: 28.4046 - mae: 28.4046\n",
            "Epoch 87/110\n",
            "2/2 [==============================] - 0s 7ms/step - loss: 28.2752 - mae: 28.2752\n",
            "Epoch 88/110\n",
            "2/2 [==============================] - 0s 7ms/step - loss: 28.2660 - mae: 28.2660\n",
            "Epoch 89/110\n",
            "2/2 [==============================] - 0s 7ms/step - loss: 28.2487 - mae: 28.2487\n",
            "Epoch 90/110\n",
            "2/2 [==============================] - 0s 7ms/step - loss: 28.2465 - mae: 28.2465\n",
            "Epoch 91/110\n",
            "2/2 [==============================] - 0s 7ms/step - loss: 28.2401 - mae: 28.2401\n",
            "Epoch 92/110\n",
            "2/2 [==============================] - 0s 6ms/step - loss: 28.3540 - mae: 28.3540\n",
            "Epoch 93/110\n",
            "2/2 [==============================] - 0s 7ms/step - loss: 28.5140 - mae: 28.5140\n",
            "Epoch 94/110\n",
            "2/2 [==============================] - 0s 7ms/step - loss: 28.3838 - mae: 28.3838\n",
            "Epoch 95/110\n",
            "2/2 [==============================] - 0s 7ms/step - loss: 28.2437 - mae: 28.2437\n",
            "Epoch 96/110\n",
            "2/2 [==============================] - 0s 7ms/step - loss: 28.2937 - mae: 28.2937\n",
            "Epoch 97/110\n",
            "2/2 [==============================] - 0s 7ms/step - loss: 28.3020 - mae: 28.3020\n",
            "Epoch 98/110\n",
            "2/2 [==============================] - 0s 7ms/step - loss: 28.2333 - mae: 28.2333\n",
            "Epoch 99/110\n",
            "2/2 [==============================] - 0s 7ms/step - loss: 28.2635 - mae: 28.2635\n",
            "Epoch 100/110\n",
            "2/2 [==============================] - 0s 7ms/step - loss: 28.2451 - mae: 28.2451\n",
            "Epoch 101/110\n",
            "2/2 [==============================] - 0s 7ms/step - loss: 28.2889 - mae: 28.2889\n",
            "Epoch 102/110\n",
            "2/2 [==============================] - 0s 7ms/step - loss: 28.3687 - mae: 28.3687\n",
            "Epoch 103/110\n",
            "2/2 [==============================] - 0s 7ms/step - loss: 28.4856 - mae: 28.4856\n",
            "Epoch 104/110\n",
            "2/2 [==============================] - 0s 7ms/step - loss: 28.2919 - mae: 28.2919\n",
            "Epoch 105/110\n",
            "2/2 [==============================] - 0s 7ms/step - loss: 28.2904 - mae: 28.2904\n",
            "Epoch 106/110\n",
            "2/2 [==============================] - 0s 6ms/step - loss: 28.2535 - mae: 28.2535\n",
            "Epoch 107/110\n",
            "2/2 [==============================] - 0s 7ms/step - loss: 28.2313 - mae: 28.2313\n",
            "Epoch 108/110\n",
            "2/2 [==============================] - 0s 7ms/step - loss: 28.3810 - mae: 28.3810\n",
            "Epoch 109/110\n",
            "2/2 [==============================] - 0s 7ms/step - loss: 28.8139 - mae: 28.8139\n",
            "Epoch 110/110\n",
            "2/2 [==============================] - 0s 7ms/step - loss: 28.2318 - mae: 28.2318\n"
          ]
        },
        {
          "output_type": "execute_result",
          "data": {
            "text/plain": [
              "<keras.src.callbacks.History at 0x77fdef2a8640>"
            ]
          },
          "metadata": {},
          "execution_count": 20
        }
      ]
    },
    {
      "cell_type": "code",
      "source": [
        "#Visualize the model\n",
        "model.summary()\n",
        "#Trainable params ---> the model can update as it trains\n",
        "#Non_trainable params --->Are Not updated during training (Kinda a Transfer Learning )\n",
        "\n"
      ],
      "metadata": {
        "colab": {
          "base_uri": "https://localhost:8080/"
        },
        "id": "f6GVupBP0YeO",
        "outputId": "34ab828a-9ddd-43ce-c283-2bb91b742027"
      },
      "execution_count": 13,
      "outputs": [
        {
          "output_type": "stream",
          "name": "stdout",
          "text": [
            "Model: \"One_of_my_Models\"\n",
            "_________________________________________________________________\n",
            " Layer (type)                Output Shape              Param #   \n",
            "=================================================================\n",
            " InPut (Dense)               (None, 10)                20        \n",
            "                                                                 \n",
            " dense (Dense)               (None, 1)                 11        \n",
            "                                                                 \n",
            " Out (Dense)                 (None, 1)                 2         \n",
            "                                                                 \n",
            "=================================================================\n",
            "Total params: 33 (132.00 Byte)\n",
            "Trainable params: 33 (132.00 Byte)\n",
            "Non-trainable params: 0 (0.00 Byte)\n",
            "_________________________________________________________________\n"
          ]
        }
      ]
    },
    {
      "cell_type": "code",
      "source": [
        "from tensorflow.keras.utils import plot_model\n",
        "plot_model(model = model , show_shapes = True)"
      ],
      "metadata": {
        "colab": {
          "base_uri": "https://localhost:8080/",
          "height": 422
        },
        "id": "4rypm93v09pa",
        "outputId": "e3da661c-9388-4f93-8c1e-3c335097cacd"
      },
      "execution_count": 14,
      "outputs": [
        {
          "output_type": "execute_result",
          "data": {
            "image/png": "[encoded data removed]",
            "text/plain": [
              "<IPython.core.display.Image object>"
            ]
          },
          "metadata": {},
          "execution_count": 14
        }
      ]
    },
    {
      "cell_type": "markdown",
      "source": [
        "### Visualizing our model's Predictions\n",
        "To Viseualize predictions , it's a good idea to plot them against the ground Truth labels"
      ],
      "metadata": {
        "id": "YDn8ETNTCiHG"
      }
    },
    {
      "cell_type": "code",
      "source": [
        "y_preds = model.predict(x_test)\n",
        "y_preds"
      ],
      "metadata": {
        "colab": {
          "base_uri": "https://localhost:8080/"
        },
        "id": "REJzf1qCFEYa",
        "outputId": "c1c4687e-2701-4655-ac1c-b8fed1f1c726"
      },
      "execution_count": 21,
      "outputs": [
        {
          "output_type": "stream",
          "name": "stdout",
          "text": [
            "1/1 [==============================] - 0s 59ms/step\n"
          ]
        },
        {
          "output_type": "execute_result",
          "data": {
            "text/plain": [
              "array([[ 74.060715],\n",
              "       [ 78.99332 ],\n",
              "       [ 83.92592 ],\n",
              "       [ 88.85853 ],\n",
              "       [ 93.791115],\n",
              "       [ 98.72373 ],\n",
              "       [103.65633 ],\n",
              "       [108.58893 ],\n",
              "       [113.521515],\n",
              "       [118.45413 ]], dtype=float32)"
            ]
          },
          "metadata": {},
          "execution_count": 21
        }
      ]
    },
    {
      "cell_type": "code",
      "source": [
        "y_test"
      ],
      "metadata": {
        "colab": {
          "base_uri": "https://localhost:8080/"
        },
        "id": "Mh1OjtgBF2ZO",
        "outputId": "c660e09d-bfd4-414d-feb9-ccd5edba2a4a"
      },
      "execution_count": 22,
      "outputs": [
        {
          "output_type": "execute_result",
          "data": {
            "text/plain": [
              "<tf.Tensor: shape=(10,), dtype=int32, numpy=array([ 70,  74,  78,  82,  86,  90,  94,  98, 102, 106], dtype=int32)>"
            ]
          },
          "metadata": {},
          "execution_count": 22
        }
      ]
    },
    {
      "cell_type": "code",
      "source": [
        "def plot_predictions(train_data = x_train ,\n",
        "                     train_labels = y_train ,\n",
        "                     test_data = x_test ,\n",
        "                     test_labels = y_test ,\n",
        "                     predictions = y_preds):\n",
        "  \"Plot training data , test data and compares predictions to Ground truth Labels\"\n",
        "  plt.figure(figsize = (10 , 7))\n",
        "  plt.scatter(train_data , train_labels , c = 'b' , label = \"Training\")\n",
        "  plt.scatter(test_data , test_labels , c = 'g' , label = \"Testing\")\n",
        "  plt.scatter(test_data , predictions , c = 'r' , label = \"Predictions\")\n",
        "  #Show the legend\n",
        "  plt.legend()"
      ],
      "metadata": {
        "id": "iNEGGm0jF-Vo"
      },
      "execution_count": 23,
      "outputs": []
    },
    {
      "cell_type": "code",
      "source": [
        "plot_predictions()"
      ],
      "metadata": {
        "colab": {
          "base_uri": "https://localhost:8080/",
          "height": 599
        },
        "id": "ubbRbnYcL7mj",
        "outputId": "4b1dbe8b-a328-43c2-b76a-f552e3a17bc8"
      },
      "execution_count": 24,
      "outputs": [
        {
          "output_type": "display_data",
          "data": {
            "text/plain": [
              "<Figure size 1000x700 with 1 Axes>"
            ],
            "image/png": "[encoded data removed]"
          },
          "metadata": {}
        }
      ]
    },
    {
      "cell_type": "code",
      "source": [
        "### Evaluating our preds with reg evaluation metrics\n",
        "\n",
        "#---> Mean Absolute Error MAE\n",
        "tf.metrics.mean_absolute_error(y_true= y_test , y_pred=tf.squeeze(y_preds))\n",
        "\n"
      ],
      "metadata": {
        "id": "J4NM-GTIL-lf",
        "colab": {
          "base_uri": "https://localhost:8080/"
        },
        "outputId": "529b2900-9398-4a1d-8970-d9d29d0cba69"
      },
      "execution_count": 28,
      "outputs": [
        {
          "output_type": "execute_result",
          "data": {
            "text/plain": [
              "<tf.Tensor: shape=(), dtype=float32, numpy=8.257422>"
            ]
          },
          "metadata": {},
          "execution_count": 28
        }
      ]
    },
    {
      "cell_type": "code",
      "source": [
        "#---> Mean Squared Error MAE\n",
        "tf.metrics.mean_squared_error(y_true=y_test , y_pred = tf.squeeze(y_preds))"
      ],
      "metadata": {
        "colab": {
          "base_uri": "https://localhost:8080/"
        },
        "id": "T4ORYd6qcjMg",
        "outputId": "acc3e0e8-b4d5-4bca-e65a-c6ab9555de0e"
      },
      "execution_count": 27,
      "outputs": [
        {
          "output_type": "execute_result",
          "data": {
            "text/plain": [
              "<tf.Tensor: shape=(), dtype=float32, numpy=75.36043>"
            ]
          },
          "metadata": {},
          "execution_count": 27
        }
      ]
    },
    {
      "cell_type": "code",
      "source": [
        "#Make some functions to reuse MAE and MSE\n",
        "def mae(y_true , y_pred):\n",
        "  return tf.metrics.mean_absolute_error(y_true= y_true , y_pred=tf.squeeze(y_pred))\n",
        "\n",
        "def mse(y_true , y_pred):\n",
        "  return tf.metrics.mean_squared_error(y_true= y_true , y_pred=tf.squeeze(y_pred))"
      ],
      "metadata": {
        "id": "0viB9d5pejbg"
      },
      "execution_count": 36,
      "outputs": []
    },
    {
      "cell_type": "markdown",
      "source": [
        "#Running Experiments to improve our model\n",
        "* --> Get More data\n",
        "* --> Make ur Model Larger\n",
        "* --> Train for longer\n",
        "---------------------\n",
        "1. Model_1 : same as the original one , 1 layer , trained for 100 steps\n",
        "\n",
        "2. Model_2 : 2 layers , trained for 100 epochs\n",
        "\n",
        "3. Model_3 : 2 layers , trained for 500 epochs\n"
      ],
      "metadata": {
        "id": "W36jn226gJx-"
      }
    },
    {
      "cell_type": "code",
      "source": [
        "#Set Random seed\n",
        "tf.random.set_seed(42)\n",
        "\n",
        "#1.Create the model\n",
        "model_1 = tf.keras.Sequential([\n",
        "    tf.keras.layers.Dense(1)\n",
        "])\n",
        "\n",
        "#2.Compile the model\n",
        "model_1.compile(loss = tf.keras.losses.mae ,\n",
        "                optimizer = tf.keras.optimizers.SGD() ,\n",
        "                metrics = [\"mae\"])\n",
        "\n",
        "#3.Fit the model\n",
        "model_1.fit(tf.expand_dims(x_train , axis = -1) , y_train , epochs = 100 )"
      ],
      "metadata": {
        "id": "gomS1pFdjNHf"
      },
      "execution_count": null,
      "outputs": []
    },
    {
      "cell_type": "code",
      "source": [
        "#Make and plot predictions with Model_1\n",
        "y_preds_1 = model_1.predict(x_test)\n",
        "plot_predictions(predictions=y_preds_1)"
      ],
      "metadata": {
        "colab": {
          "base_uri": "https://localhost:8080/",
          "height": 616
        },
        "id": "cArx1mDEk0qE",
        "outputId": "9486e921-6807-432d-cd53-1ad1bcd0fd29"
      },
      "execution_count": 33,
      "outputs": [
        {
          "output_type": "stream",
          "name": "stdout",
          "text": [
            "1/1 [==============================] - 0s 30ms/step\n"
          ]
        },
        {
          "output_type": "display_data",
          "data": {
            "text/plain": [
              "<Figure size 1000x700 with 1 Axes>"
            ],
            "image/png": "[encoded data removed]"
          },
          "metadata": {}
        }
      ]
    },
    {
      "cell_type": "code",
      "source": [
        "#Calculate model_1 evaluation metrics\n",
        "mae_1 = mae(y_test , y_preds_1)\n",
        "mse_1 = mse(y_test , y_preds_1)\n",
        "mae_1 , mse_1"
      ],
      "metadata": {
        "colab": {
          "base_uri": "https://localhost:8080/"
        },
        "id": "8Ge1AW9SliJ8",
        "outputId": "3596e4e7-d131-46d7-e580-e129a239f304"
      },
      "execution_count": 66,
      "outputs": [
        {
          "output_type": "execute_result",
          "data": {
            "text/plain": [
              "(<tf.Tensor: shape=(), dtype=float32, numpy=14.897168>,\n",
              " <tf.Tensor: shape=(), dtype=float32, numpy=222.75632>)"
            ]
          },
          "metadata": {},
          "execution_count": 66
        }
      ]
    },
    {
      "cell_type": "code",
      "source": [
        "from os import name\n",
        "#Building Model_2 --> 2 Dense Layers , trained for 100 epochs\n",
        "model_2 = tf.keras.Sequential([\n",
        "    tf.keras.layers.Dense(10 , name = \"INPUT_LAYER\") ,\n",
        "    tf.keras.layers.Dense(1),\n",
        "])\n",
        "\n",
        "model_2.compile(loss = tf.keras.losses.mae ,\n",
        "                optimizer = tf.keras.optimizers.SGD(),\n",
        "                metrics=\"mse\"\n",
        "                )\n",
        "model_2.fit(tf.expand_dims(x_train , axis = -1) , y_train , epochs = 100 )\n"
      ],
      "metadata": {
        "id": "HrLJUoPhl69S"
      },
      "execution_count": null,
      "outputs": []
    },
    {
      "cell_type": "code",
      "source": [
        "y_pred_2 = model_2.predict(x_test)\n",
        "y_pred_2 , y_test\n"
      ],
      "metadata": {
        "colab": {
          "base_uri": "https://localhost:8080/"
        },
        "id": "sfuic67hoEsb",
        "outputId": "bc2b182b-6004-4935-ce57-fcf3a3a7f5fa"
      },
      "execution_count": 127,
      "outputs": [
        {
          "output_type": "stream",
          "name": "stdout",
          "text": [
            "1/1 [==============================] - 0s 24ms/step\n"
          ]
        },
        {
          "output_type": "execute_result",
          "data": {
            "text/plain": [
              "(array([[ 69.6549  ],\n",
              "        [ 74.18427 ],\n",
              "        [ 78.713646],\n",
              "        [ 83.24301 ],\n",
              "        [ 87.77239 ],\n",
              "        [ 92.30175 ],\n",
              "        [ 96.83112 ],\n",
              "        [101.3605  ],\n",
              "        [105.88986 ],\n",
              "        [110.419235]], dtype=float32),\n",
              " <tf.Tensor: shape=(10,), dtype=int32, numpy=array([ 70,  74,  78,  82,  86,  90,  94,  98, 102, 106], dtype=int32)>)"
            ]
          },
          "metadata": {},
          "execution_count": 127
        }
      ]
    },
    {
      "cell_type": "code",
      "source": [
        "plot_predictions(predictions=y_pred_2)"
      ],
      "metadata": {
        "colab": {
          "base_uri": "https://localhost:8080/",
          "height": 599
        },
        "id": "p6VRYVjqogFu",
        "outputId": "d37de1e8-d619-45f7-fafd-244d029587b4"
      },
      "execution_count": 128,
      "outputs": [
        {
          "output_type": "display_data",
          "data": {
            "text/plain": [
              "<Figure size 1000x700 with 1 Axes>"
            ],
            "image/png": "[encoded data removed]"
          },
          "metadata": {}
        }
      ]
    },
    {
      "cell_type": "code",
      "source": [
        "mae_2 = mae(y_test , y_pred_2)\n",
        "mse_2 = mse(y_test , y_pred_2)\n",
        "mae_2 , mse_2"
      ],
      "metadata": {
        "colab": {
          "base_uri": "https://localhost:8080/"
        },
        "id": "TuGC2U3YohHd",
        "outputId": "45f1ea59-5319-4bca-9ead-8ba88fb90dcf"
      },
      "execution_count": 87,
      "outputs": [
        {
          "output_type": "execute_result",
          "data": {
            "text/plain": [
              "(<tf.Tensor: shape=(), dtype=float32, numpy=10.903225>,\n",
              " <tf.Tensor: shape=(), dtype=float32, numpy=126.860916>)"
            ]
          },
          "metadata": {},
          "execution_count": 87
        }
      ]
    },
    {
      "cell_type": "code",
      "source": [
        "#Build Model_3 --> 2 Layers with 500 epochs\n",
        "model_3 = tf.keras.Sequential([\n",
        "    tf.keras.layers.Dense(10),\n",
        "    tf.keras.layers.Dense(1)\n",
        "])\n",
        "model_3.compile(\n",
        "    loss = tf.keras.losses.mae ,\n",
        "    optimizer = tf.keras.optimizers.SGD(),\n",
        "    metrics = 'mse'\n",
        ")\n",
        "model_3.fit(tf.expand_dims(x_train , axis = -1) , y_train , epochs = 500)"
      ],
      "metadata": {
        "colab": {
          "base_uri": "https://localhost:8080/"
        },
        "id": "MYpMUU1TqFCo",
        "outputId": "35f3ea13-9ec0-4ec5-993f-070939a8707c"
      },
      "execution_count": 145,
      "outputs": [
        {
          "output_type": "stream",
          "name": "stdout",
          "text": [
            "Epoch 1/500\n",
            "2/2 [==============================] - 0s 17ms/step - loss: 52.1496 - mse: 4271.8999\n",
            "Epoch 2/500\n",
            "2/2 [==============================] - 0s 11ms/step - loss: 21.6811 - mse: 740.0758\n",
            "Epoch 3/500\n",
            "2/2 [==============================] - 0s 11ms/step - loss: 19.2917 - mse: 543.6026\n",
            "Epoch 4/500\n",
            "2/2 [==============================] - 0s 9ms/step - loss: 13.9816 - mse: 256.0744\n",
            "Epoch 5/500\n",
            "2/2 [==============================] - 0s 13ms/step - loss: 15.5565 - mse: 311.9785\n",
            "Epoch 6/500\n",
            "2/2 [==============================] - 0s 9ms/step - loss: 12.3465 - mse: 192.3516\n",
            "Epoch 7/500\n",
            "2/2 [==============================] - 0s 8ms/step - loss: 11.6358 - mse: 165.8979\n",
            "Epoch 8/500\n",
            "2/2 [==============================] - 0s 9ms/step - loss: 12.0571 - mse: 196.9995\n",
            "Epoch 9/500\n",
            "2/2 [==============================] - 0s 8ms/step - loss: 37.6810 - mse: 2186.6184\n",
            "Epoch 10/500\n",
            "2/2 [==============================] - 0s 9ms/step - loss: 25.3197 - mse: 899.4746\n",
            "Epoch 11/500\n",
            "2/2 [==============================] - 0s 8ms/step - loss: 10.2516 - mse: 147.1467\n",
            "Epoch 12/500\n",
            "2/2 [==============================] - 0s 8ms/step - loss: 25.3982 - mse: 898.3465\n",
            "Epoch 13/500\n",
            "2/2 [==============================] - 0s 20ms/step - loss: 16.8884 - mse: 394.0490\n",
            "Epoch 14/500\n",
            "2/2 [==============================] - 0s 8ms/step - loss: 25.7382 - mse: 1032.9973\n",
            "Epoch 15/500\n",
            "2/2 [==============================] - 0s 9ms/step - loss: 17.5930 - mse: 428.4638\n",
            "Epoch 16/500\n",
            "2/2 [==============================] - 0s 8ms/step - loss: 10.0522 - mse: 124.2918\n",
            "Epoch 17/500\n",
            "2/2 [==============================] - 0s 9ms/step - loss: 18.6051 - mse: 462.8600\n",
            "Epoch 18/500\n",
            "2/2 [==============================] - 0s 7ms/step - loss: 11.7554 - mse: 211.4112\n",
            "Epoch 19/500\n",
            "2/2 [==============================] - 0s 10ms/step - loss: 16.4291 - mse: 433.0042\n",
            "Epoch 20/500\n",
            "2/2 [==============================] - 0s 10ms/step - loss: 8.2428 - mse: 93.3202\n",
            "Epoch 21/500\n",
            "2/2 [==============================] - 0s 9ms/step - loss: 14.4387 - mse: 289.0108\n",
            "Epoch 22/500\n",
            "2/2 [==============================] - 0s 10ms/step - loss: 12.8559 - mse: 246.1722\n",
            "Epoch 23/500\n",
            "2/2 [==============================] - 0s 9ms/step - loss: 15.4894 - mse: 315.1782\n",
            "Epoch 24/500\n",
            "2/2 [==============================] - 0s 9ms/step - loss: 15.2800 - mse: 316.3140\n",
            "Epoch 25/500\n",
            "2/2 [==============================] - 0s 8ms/step - loss: 14.3474 - mse: 272.8037\n",
            "Epoch 26/500\n",
            "2/2 [==============================] - 0s 8ms/step - loss: 19.3613 - mse: 568.8502\n",
            "Epoch 27/500\n",
            "2/2 [==============================] - 0s 9ms/step - loss: 11.4411 - mse: 168.2880\n",
            "Epoch 28/500\n",
            "2/2 [==============================] - 0s 8ms/step - loss: 29.0432 - mse: 1370.7939\n",
            "Epoch 29/500\n",
            "2/2 [==============================] - 0s 8ms/step - loss: 9.2484 - mse: 94.5843\n",
            "Epoch 30/500\n",
            "2/2 [==============================] - 0s 8ms/step - loss: 29.7908 - mse: 1606.2250\n",
            "Epoch 31/500\n",
            "2/2 [==============================] - 0s 8ms/step - loss: 54.0500 - mse: 5233.4414\n",
            "Epoch 32/500\n",
            "2/2 [==============================] - 0s 8ms/step - loss: 9.5568 - mse: 101.0133\n",
            "Epoch 33/500\n",
            "2/2 [==============================] - 0s 9ms/step - loss: 12.1468 - mse: 180.2031\n",
            "Epoch 34/500\n",
            "2/2 [==============================] - 0s 8ms/step - loss: 23.8451 - mse: 861.2527\n",
            "Epoch 35/500\n",
            "2/2 [==============================] - 0s 8ms/step - loss: 12.6289 - mse: 242.2775\n",
            "Epoch 36/500\n",
            "2/2 [==============================] - 0s 8ms/step - loss: 21.5529 - mse: 662.5485\n",
            "Epoch 37/500\n",
            "2/2 [==============================] - 0s 8ms/step - loss: 11.3565 - mse: 149.5775\n",
            "Epoch 38/500\n",
            "2/2 [==============================] - 0s 9ms/step - loss: 13.4280 - mse: 267.4070\n",
            "Epoch 39/500\n",
            "2/2 [==============================] - 0s 11ms/step - loss: 10.7708 - mse: 138.3079\n",
            "Epoch 40/500\n",
            "2/2 [==============================] - 0s 9ms/step - loss: 16.5482 - mse: 397.5072\n",
            "Epoch 41/500\n",
            "2/2 [==============================] - 0s 8ms/step - loss: 10.9461 - mse: 179.8985\n",
            "Epoch 42/500\n",
            "2/2 [==============================] - 0s 8ms/step - loss: 9.2797 - mse: 115.2721\n",
            "Epoch 43/500\n",
            "2/2 [==============================] - 0s 8ms/step - loss: 9.5850 - mse: 111.1908\n",
            "Epoch 44/500\n",
            "2/2 [==============================] - 0s 10ms/step - loss: 27.9239 - mse: 1250.0217\n",
            "Epoch 45/500\n",
            "2/2 [==============================] - 0s 8ms/step - loss: 11.2634 - mse: 146.3192\n",
            "Epoch 46/500\n",
            "2/2 [==============================] - 0s 8ms/step - loss: 13.8633 - mse: 281.4425\n",
            "Epoch 47/500\n",
            "2/2 [==============================] - 0s 8ms/step - loss: 11.9170 - mse: 211.9239\n",
            "Epoch 48/500\n",
            "2/2 [==============================] - 0s 8ms/step - loss: 16.9494 - mse: 389.0705\n",
            "Epoch 49/500\n",
            "2/2 [==============================] - 0s 8ms/step - loss: 9.7745 - mse: 104.9403\n",
            "Epoch 50/500\n",
            "2/2 [==============================] - 0s 8ms/step - loss: 14.1696 - mse: 281.0702\n",
            "Epoch 51/500\n",
            "2/2 [==============================] - 0s 8ms/step - loss: 11.7354 - mse: 161.2808\n",
            "Epoch 52/500\n",
            "2/2 [==============================] - 0s 7ms/step - loss: 31.4029 - mse: 1713.5885\n",
            "Epoch 53/500\n",
            "2/2 [==============================] - 0s 8ms/step - loss: 14.7304 - mse: 321.4487\n",
            "Epoch 54/500\n",
            "2/2 [==============================] - 0s 12ms/step - loss: 24.6268 - mse: 912.6713\n",
            "Epoch 55/500\n",
            "2/2 [==============================] - 0s 8ms/step - loss: 23.9103 - mse: 859.6027\n",
            "Epoch 56/500\n",
            "2/2 [==============================] - 0s 8ms/step - loss: 11.1220 - mse: 170.9972\n",
            "Epoch 57/500\n",
            "2/2 [==============================] - 0s 7ms/step - loss: 13.0631 - mse: 211.6827\n",
            "Epoch 58/500\n",
            "2/2 [==============================] - 0s 9ms/step - loss: 9.7812 - mse: 105.6313\n",
            "Epoch 59/500\n",
            "2/2 [==============================] - 0s 7ms/step - loss: 13.2445 - mse: 245.9056\n",
            "Epoch 60/500\n",
            "2/2 [==============================] - 0s 9ms/step - loss: 10.8351 - mse: 138.0242\n",
            "Epoch 61/500\n",
            "2/2 [==============================] - 0s 10ms/step - loss: 13.4209 - mse: 238.7321\n",
            "Epoch 62/500\n",
            "2/2 [==============================] - 0s 9ms/step - loss: 17.4017 - mse: 461.8102\n",
            "Epoch 63/500\n",
            "2/2 [==============================] - 0s 8ms/step - loss: 9.1378 - mse: 87.6135\n",
            "Epoch 64/500\n",
            "2/2 [==============================] - 0s 8ms/step - loss: 18.2754 - mse: 485.5607\n",
            "Epoch 65/500\n",
            "2/2 [==============================] - 0s 8ms/step - loss: 10.0929 - mse: 114.0046\n",
            "Epoch 66/500\n",
            "2/2 [==============================] - 0s 8ms/step - loss: 24.1143 - mse: 876.3932\n",
            "Epoch 67/500\n",
            "2/2 [==============================] - 0s 8ms/step - loss: 10.8457 - mse: 140.9338\n",
            "Epoch 68/500\n",
            "2/2 [==============================] - 0s 8ms/step - loss: 10.7393 - mse: 156.4136\n",
            "Epoch 69/500\n",
            "2/2 [==============================] - 0s 8ms/step - loss: 23.0892 - mse: 769.9471\n",
            "Epoch 70/500\n",
            "2/2 [==============================] - 0s 8ms/step - loss: 8.8419 - mse: 142.8853\n",
            "Epoch 71/500\n",
            "2/2 [==============================] - 0s 7ms/step - loss: 16.0714 - mse: 352.3096\n",
            "Epoch 72/500\n",
            "2/2 [==============================] - 0s 7ms/step - loss: 7.7566 - mse: 91.3005\n",
            "Epoch 73/500\n",
            "2/2 [==============================] - 0s 8ms/step - loss: 10.1601 - mse: 165.2377\n",
            "Epoch 74/500\n",
            "2/2 [==============================] - 0s 8ms/step - loss: 28.3436 - mse: 1124.2799\n",
            "Epoch 75/500\n",
            "2/2 [==============================] - 0s 8ms/step - loss: 9.9970 - mse: 146.2182\n",
            "Epoch 76/500\n",
            "2/2 [==============================] - 0s 8ms/step - loss: 12.9107 - mse: 207.1934\n",
            "Epoch 77/500\n",
            "2/2 [==============================] - 0s 9ms/step - loss: 17.8582 - mse: 496.8063\n",
            "Epoch 78/500\n",
            "2/2 [==============================] - 0s 10ms/step - loss: 8.9594 - mse: 87.6200\n",
            "Epoch 79/500\n",
            "2/2 [==============================] - 0s 9ms/step - loss: 28.6773 - mse: 1298.1609\n",
            "Epoch 80/500\n",
            "2/2 [==============================] - 0s 8ms/step - loss: 31.0080 - mse: 1526.2874\n",
            "Epoch 81/500\n",
            "2/2 [==============================] - 0s 7ms/step - loss: 13.3883 - mse: 250.5074\n",
            "Epoch 82/500\n",
            "2/2 [==============================] - 0s 8ms/step - loss: 14.5249 - mse: 291.1331\n",
            "Epoch 83/500\n",
            "2/2 [==============================] - 0s 7ms/step - loss: 18.5466 - mse: 453.9682\n",
            "Epoch 84/500\n",
            "2/2 [==============================] - 0s 8ms/step - loss: 8.8159 - mse: 127.8752\n",
            "Epoch 85/500\n",
            "2/2 [==============================] - 0s 9ms/step - loss: 18.4226 - mse: 531.2038\n",
            "Epoch 86/500\n",
            "2/2 [==============================] - 0s 8ms/step - loss: 22.5389 - mse: 726.4855\n",
            "Epoch 87/500\n",
            "2/2 [==============================] - 0s 8ms/step - loss: 11.3654 - mse: 153.7430\n",
            "Epoch 88/500\n",
            "2/2 [==============================] - 0s 9ms/step - loss: 26.5604 - mse: 1007.5111\n",
            "Epoch 89/500\n",
            "2/2 [==============================] - 0s 8ms/step - loss: 9.6517 - mse: 129.8989\n",
            "Epoch 90/500\n",
            "2/2 [==============================] - 0s 9ms/step - loss: 18.7164 - mse: 502.2393\n",
            "Epoch 91/500\n",
            "2/2 [==============================] - 0s 9ms/step - loss: 10.4845 - mse: 164.7226\n",
            "Epoch 92/500\n",
            "2/2 [==============================] - 0s 8ms/step - loss: 17.9435 - mse: 440.3320\n",
            "Epoch 93/500\n",
            "2/2 [==============================] - 0s 8ms/step - loss: 6.5884 - mse: 62.2016\n",
            "Epoch 94/500\n",
            "2/2 [==============================] - 0s 7ms/step - loss: 11.1320 - mse: 152.3607\n",
            "Epoch 95/500\n",
            "2/2 [==============================] - 0s 8ms/step - loss: 24.2781 - mse: 883.9191\n",
            "Epoch 96/500\n",
            "2/2 [==============================] - 0s 9ms/step - loss: 10.7359 - mse: 173.5211\n",
            "Epoch 97/500\n",
            "2/2 [==============================] - 0s 7ms/step - loss: 15.3021 - mse: 354.4832\n",
            "Epoch 98/500\n",
            "2/2 [==============================] - 0s 8ms/step - loss: 8.2567 - mse: 112.2512\n",
            "Epoch 99/500\n",
            "2/2 [==============================] - 0s 8ms/step - loss: 16.4616 - mse: 380.7063\n",
            "Epoch 100/500\n",
            "2/2 [==============================] - 0s 7ms/step - loss: 13.8726 - mse: 274.9514\n",
            "Epoch 101/500\n",
            "2/2 [==============================] - 0s 8ms/step - loss: 17.8170 - mse: 477.6219\n",
            "Epoch 102/500\n",
            "2/2 [==============================] - 0s 8ms/step - loss: 11.0180 - mse: 162.0827\n",
            "Epoch 103/500\n",
            "2/2 [==============================] - 0s 8ms/step - loss: 9.2852 - mse: 96.4871\n",
            "Epoch 104/500\n",
            "2/2 [==============================] - 0s 8ms/step - loss: 24.3690 - mse: 891.3996\n",
            "Epoch 105/500\n",
            "2/2 [==============================] - 0s 8ms/step - loss: 11.4042 - mse: 185.5302\n",
            "Epoch 106/500\n",
            "2/2 [==============================] - 0s 8ms/step - loss: 9.9815 - mse: 117.7319\n",
            "Epoch 107/500\n",
            "2/2 [==============================] - 0s 11ms/step - loss: 21.7894 - mse: 709.7313\n",
            "Epoch 108/500\n",
            "2/2 [==============================] - 0s 8ms/step - loss: 8.0172 - mse: 94.8137\n",
            "Epoch 109/500\n",
            "2/2 [==============================] - 0s 11ms/step - loss: 12.3523 - mse: 207.5095\n",
            "Epoch 110/500\n",
            "2/2 [==============================] - 0s 10ms/step - loss: 10.2961 - mse: 131.8820\n",
            "Epoch 111/500\n",
            "2/2 [==============================] - 0s 8ms/step - loss: 16.1111 - mse: 364.9525\n",
            "Epoch 112/500\n",
            "2/2 [==============================] - 0s 8ms/step - loss: 9.3505 - mse: 110.1637\n",
            "Epoch 113/500\n",
            "2/2 [==============================] - 0s 8ms/step - loss: 16.6476 - mse: 403.6175\n",
            "Epoch 114/500\n",
            "2/2 [==============================] - 0s 11ms/step - loss: 18.1262 - mse: 492.4826\n",
            "Epoch 115/500\n",
            "2/2 [==============================] - 0s 7ms/step - loss: 10.8236 - mse: 140.7050\n",
            "Epoch 116/500\n",
            "2/2 [==============================] - 0s 8ms/step - loss: 22.0418 - mse: 704.0696\n",
            "Epoch 117/500\n",
            "2/2 [==============================] - 0s 7ms/step - loss: 9.2488 - mse: 129.7028\n",
            "Epoch 118/500\n",
            "2/2 [==============================] - 0s 10ms/step - loss: 10.2524 - mse: 130.3448\n",
            "Epoch 119/500\n",
            "2/2 [==============================] - 0s 8ms/step - loss: 8.0399 - mse: 71.8002\n",
            "Epoch 120/500\n",
            "2/2 [==============================] - 0s 11ms/step - loss: 46.5177 - mse: 3482.8535\n",
            "Epoch 121/500\n",
            "2/2 [==============================] - 0s 11ms/step - loss: 12.1614 - mse: 222.7108\n",
            "Epoch 122/500\n",
            "2/2 [==============================] - 0s 8ms/step - loss: 23.1831 - mse: 781.5500\n",
            "Epoch 123/500\n",
            "2/2 [==============================] - 0s 10ms/step - loss: 27.9464 - mse: 1121.8640\n",
            "Epoch 124/500\n",
            "2/2 [==============================] - 0s 10ms/step - loss: 15.6732 - mse: 362.9292\n",
            "Epoch 125/500\n",
            "2/2 [==============================] - 0s 9ms/step - loss: 8.4175 - mse: 121.9589\n",
            "Epoch 126/500\n",
            "2/2 [==============================] - 0s 10ms/step - loss: 11.2760 - mse: 159.1708\n",
            "Epoch 127/500\n",
            "2/2 [==============================] - 0s 8ms/step - loss: 17.5606 - mse: 488.7691\n",
            "Epoch 128/500\n",
            "2/2 [==============================] - 0s 8ms/step - loss: 11.0592 - mse: 157.1593\n",
            "Epoch 129/500\n",
            "2/2 [==============================] - 0s 8ms/step - loss: 19.7154 - mse: 617.8312\n",
            "Epoch 130/500\n",
            "2/2 [==============================] - 0s 8ms/step - loss: 10.2077 - mse: 120.4535\n",
            "Epoch 131/500\n",
            "2/2 [==============================] - 0s 8ms/step - loss: 21.3649 - mse: 691.9421\n",
            "Epoch 132/500\n",
            "2/2 [==============================] - 0s 8ms/step - loss: 8.2420 - mse: 97.5225\n",
            "Epoch 133/500\n",
            "2/2 [==============================] - 0s 9ms/step - loss: 9.0260 - mse: 108.5622\n",
            "Epoch 134/500\n",
            "2/2 [==============================] - 0s 9ms/step - loss: 16.4115 - mse: 391.3128\n",
            "Epoch 135/500\n",
            "2/2 [==============================] - 0s 8ms/step - loss: 11.3285 - mse: 161.5784\n",
            "Epoch 136/500\n",
            "2/2 [==============================] - 0s 7ms/step - loss: 20.3426 - mse: 591.8851\n",
            "Epoch 137/500\n",
            "2/2 [==============================] - 0s 7ms/step - loss: 23.8144 - mse: 766.4993\n",
            "Epoch 138/500\n",
            "2/2 [==============================] - 0s 7ms/step - loss: 9.4298 - mse: 140.2285\n",
            "Epoch 139/500\n",
            "2/2 [==============================] - 0s 10ms/step - loss: 9.1151 - mse: 142.6151\n",
            "Epoch 140/500\n",
            "2/2 [==============================] - 0s 7ms/step - loss: 17.1666 - mse: 423.5285\n",
            "Epoch 141/500\n",
            "2/2 [==============================] - 0s 8ms/step - loss: 8.3752 - mse: 77.3009\n",
            "Epoch 142/500\n",
            "2/2 [==============================] - 0s 7ms/step - loss: 34.2947 - mse: 2040.3430\n",
            "Epoch 143/500\n",
            "2/2 [==============================] - 0s 7ms/step - loss: 23.3333 - mse: 762.6520\n",
            "Epoch 144/500\n",
            "2/2 [==============================] - 0s 8ms/step - loss: 10.4988 - mse: 183.9796\n",
            "Epoch 145/500\n",
            "2/2 [==============================] - 0s 8ms/step - loss: 25.8500 - mse: 903.6761\n",
            "Epoch 146/500\n",
            "2/2 [==============================] - 0s 8ms/step - loss: 9.9553 - mse: 131.1456\n",
            "Epoch 147/500\n",
            "2/2 [==============================] - 0s 8ms/step - loss: 14.7532 - mse: 290.9164\n",
            "Epoch 148/500\n",
            "2/2 [==============================] - 0s 9ms/step - loss: 17.8677 - mse: 440.3522\n",
            "Epoch 149/500\n",
            "2/2 [==============================] - 0s 12ms/step - loss: 8.4554 - mse: 106.3536\n",
            "Epoch 150/500\n",
            "2/2 [==============================] - 0s 8ms/step - loss: 7.6334 - mse: 66.6947\n",
            "Epoch 151/500\n",
            "2/2 [==============================] - 0s 10ms/step - loss: 18.8028 - mse: 512.7572\n",
            "Epoch 152/500\n",
            "2/2 [==============================] - 0s 11ms/step - loss: 10.4702 - mse: 136.2136\n",
            "Epoch 153/500\n",
            "2/2 [==============================] - 0s 8ms/step - loss: 30.2964 - mse: 1330.9030\n",
            "Epoch 154/500\n",
            "2/2 [==============================] - 0s 8ms/step - loss: 10.0159 - mse: 178.0494\n",
            "Epoch 155/500\n",
            "2/2 [==============================] - 0s 8ms/step - loss: 15.7640 - mse: 369.2170\n",
            "Epoch 156/500\n",
            "2/2 [==============================] - 0s 8ms/step - loss: 17.6976 - mse: 465.1230\n",
            "Epoch 157/500\n",
            "2/2 [==============================] - 0s 9ms/step - loss: 31.0462 - mse: 1548.3193\n",
            "Epoch 158/500\n",
            "2/2 [==============================] - 0s 8ms/step - loss: 10.2144 - mse: 138.8513\n",
            "Epoch 159/500\n",
            "2/2 [==============================] - 0s 8ms/step - loss: 8.6983 - mse: 98.5572\n",
            "Epoch 160/500\n",
            "2/2 [==============================] - 0s 7ms/step - loss: 20.6964 - mse: 615.8159\n",
            "Epoch 161/500\n",
            "2/2 [==============================] - 0s 8ms/step - loss: 11.8056 - mse: 205.7361\n",
            "Epoch 162/500\n",
            "2/2 [==============================] - 0s 7ms/step - loss: 21.6721 - mse: 677.0035\n",
            "Epoch 163/500\n",
            "2/2 [==============================] - 0s 8ms/step - loss: 19.3503 - mse: 539.1284\n",
            "Epoch 164/500\n",
            "2/2 [==============================] - 0s 8ms/step - loss: 11.1182 - mse: 180.5760\n",
            "Epoch 165/500\n",
            "2/2 [==============================] - 0s 8ms/step - loss: 9.6335 - mse: 180.9604\n",
            "Epoch 166/500\n",
            "2/2 [==============================] - 0s 8ms/step - loss: 21.5754 - mse: 681.1854\n",
            "Epoch 167/500\n",
            "2/2 [==============================] - 0s 9ms/step - loss: 26.3422 - mse: 1054.0437\n",
            "Epoch 168/500\n",
            "2/2 [==============================] - 0s 10ms/step - loss: 9.9236 - mse: 119.4679\n",
            "Epoch 169/500\n",
            "2/2 [==============================] - 0s 9ms/step - loss: 22.5762 - mse: 788.7809\n",
            "Epoch 170/500\n",
            "2/2 [==============================] - 0s 10ms/step - loss: 10.1793 - mse: 196.8490\n",
            "Epoch 171/500\n",
            "2/2 [==============================] - 0s 10ms/step - loss: 18.0579 - mse: 503.6961\n",
            "Epoch 172/500\n",
            "2/2 [==============================] - 0s 9ms/step - loss: 28.8169 - mse: 1304.7424\n",
            "Epoch 173/500\n",
            "2/2 [==============================] - 0s 10ms/step - loss: 16.5305 - mse: 432.6783\n",
            "Epoch 174/500\n",
            "2/2 [==============================] - 0s 7ms/step - loss: 11.2416 - mse: 200.6704\n",
            "Epoch 175/500\n",
            "2/2 [==============================] - 0s 7ms/step - loss: 27.5948 - mse: 1098.2620\n",
            "Epoch 176/500\n",
            "2/2 [==============================] - 0s 8ms/step - loss: 8.3134 - mse: 78.2804\n",
            "Epoch 177/500\n",
            "2/2 [==============================] - 0s 8ms/step - loss: 9.3076 - mse: 109.7160\n",
            "Epoch 178/500\n",
            "2/2 [==============================] - 0s 8ms/step - loss: 18.0950 - mse: 464.0370\n",
            "Epoch 179/500\n",
            "2/2 [==============================] - 0s 8ms/step - loss: 10.6393 - mse: 148.9965\n",
            "Epoch 180/500\n",
            "2/2 [==============================] - 0s 11ms/step - loss: 7.9430 - mse: 102.1033\n",
            "Epoch 181/500\n",
            "2/2 [==============================] - 0s 9ms/step - loss: 17.3321 - mse: 435.4402\n",
            "Epoch 182/500\n",
            "2/2 [==============================] - 0s 10ms/step - loss: 11.0301 - mse: 157.3112\n",
            "Epoch 183/500\n",
            "2/2 [==============================] - 0s 8ms/step - loss: 11.6787 - mse: 203.0543\n",
            "Epoch 184/500\n",
            "2/2 [==============================] - 0s 8ms/step - loss: 30.2294 - mse: 1370.7159\n",
            "Epoch 185/500\n",
            "2/2 [==============================] - 0s 8ms/step - loss: 8.2256 - mse: 130.9172\n",
            "Epoch 186/500\n",
            "2/2 [==============================] - 0s 9ms/step - loss: 18.7139 - mse: 513.7026\n",
            "Epoch 187/500\n",
            "2/2 [==============================] - 0s 9ms/step - loss: 8.8121 - mse: 146.6685\n",
            "Epoch 188/500\n",
            "2/2 [==============================] - 0s 8ms/step - loss: 23.7029 - mse: 820.6710\n",
            "Epoch 189/500\n",
            "2/2 [==============================] - 0s 8ms/step - loss: 9.4208 - mse: 115.7550\n",
            "Epoch 190/500\n",
            "2/2 [==============================] - 0s 9ms/step - loss: 17.0899 - mse: 399.7462\n",
            "Epoch 191/500\n",
            "2/2 [==============================] - 0s 7ms/step - loss: 8.6129 - mse: 138.2398\n",
            "Epoch 192/500\n",
            "2/2 [==============================] - 0s 7ms/step - loss: 15.1917 - mse: 303.7818\n",
            "Epoch 193/500\n",
            "2/2 [==============================] - 0s 9ms/step - loss: 30.0290 - mse: 1245.6906\n",
            "Epoch 194/500\n",
            "2/2 [==============================] - 0s 7ms/step - loss: 9.6710 - mse: 165.9664\n",
            "Epoch 195/500\n",
            "2/2 [==============================] - 0s 6ms/step - loss: 12.0375 - mse: 242.6640\n",
            "Epoch 196/500\n",
            "2/2 [==============================] - 0s 8ms/step - loss: 23.4023 - mse: 791.6215\n",
            "Epoch 197/500\n",
            "2/2 [==============================] - 0s 11ms/step - loss: 17.8373 - mse: 468.5080\n",
            "Epoch 198/500\n",
            "2/2 [==============================] - 0s 9ms/step - loss: 12.6256 - mse: 241.2818\n",
            "Epoch 199/500\n",
            "2/2 [==============================] - 0s 9ms/step - loss: 18.0932 - mse: 469.5270\n",
            "Epoch 200/500\n",
            "2/2 [==============================] - 0s 7ms/step - loss: 13.9236 - mse: 289.2795\n",
            "Epoch 201/500\n",
            "2/2 [==============================] - 0s 7ms/step - loss: 6.1128 - mse: 51.9672\n",
            "Epoch 202/500\n",
            "2/2 [==============================] - 0s 7ms/step - loss: 22.8957 - mse: 747.9909\n",
            "Epoch 203/500\n",
            "2/2 [==============================] - 0s 7ms/step - loss: 9.0351 - mse: 154.5652\n",
            "Epoch 204/500\n",
            "2/2 [==============================] - 0s 7ms/step - loss: 18.8369 - mse: 532.2325\n",
            "Epoch 205/500\n",
            "2/2 [==============================] - 0s 7ms/step - loss: 9.4272 - mse: 128.4941\n",
            "Epoch 206/500\n",
            "2/2 [==============================] - 0s 6ms/step - loss: 10.4878 - mse: 143.9506\n",
            "Epoch 207/500\n",
            "2/2 [==============================] - 0s 7ms/step - loss: 21.0249 - mse: 672.2245\n",
            "Epoch 208/500\n",
            "2/2 [==============================] - 0s 11ms/step - loss: 16.4531 - mse: 389.6559\n",
            "Epoch 209/500\n",
            "2/2 [==============================] - 0s 7ms/step - loss: 14.3187 - mse: 316.7930\n",
            "Epoch 210/500\n",
            "2/2 [==============================] - 0s 7ms/step - loss: 17.2736 - mse: 435.6617\n",
            "Epoch 211/500\n",
            "2/2 [==============================] - 0s 7ms/step - loss: 10.2957 - mse: 147.5494\n",
            "Epoch 212/500\n",
            "2/2 [==============================] - 0s 7ms/step - loss: 19.7277 - mse: 584.5323\n",
            "Epoch 213/500\n",
            "2/2 [==============================] - 0s 7ms/step - loss: 14.6996 - mse: 298.3022\n",
            "Epoch 214/500\n",
            "2/2 [==============================] - 0s 7ms/step - loss: 14.3768 - mse: 282.9859\n",
            "Epoch 215/500\n",
            "2/2 [==============================] - 0s 8ms/step - loss: 22.8807 - mse: 772.3483\n",
            "Epoch 216/500\n",
            "2/2 [==============================] - 0s 7ms/step - loss: 13.9000 - mse: 297.1805\n",
            "Epoch 217/500\n",
            "2/2 [==============================] - 0s 7ms/step - loss: 10.3476 - mse: 152.9772\n",
            "Epoch 218/500\n",
            "2/2 [==============================] - 0s 7ms/step - loss: 12.2719 - mse: 199.9970\n",
            "Epoch 219/500\n",
            "2/2 [==============================] - 0s 8ms/step - loss: 6.5954 - mse: 61.9464\n",
            "Epoch 220/500\n",
            "2/2 [==============================] - 0s 7ms/step - loss: 7.1782 - mse: 53.3645\n",
            "Epoch 221/500\n",
            "2/2 [==============================] - 0s 7ms/step - loss: 37.4436 - mse: 2399.4851\n",
            "Epoch 222/500\n",
            "2/2 [==============================] - 0s 7ms/step - loss: 37.2421 - mse: 2260.9839\n",
            "Epoch 223/500\n",
            "2/2 [==============================] - 0s 7ms/step - loss: 6.1576 - mse: 68.0553\n",
            "Epoch 224/500\n",
            "2/2 [==============================] - 0s 7ms/step - loss: 14.5400 - mse: 307.9329\n",
            "Epoch 225/500\n",
            "2/2 [==============================] - 0s 7ms/step - loss: 16.5551 - mse: 352.3281\n",
            "Epoch 226/500\n",
            "2/2 [==============================] - 0s 7ms/step - loss: 15.7078 - mse: 357.7027\n",
            "Epoch 227/500\n",
            "2/2 [==============================] - 0s 7ms/step - loss: 16.1733 - mse: 369.4538\n",
            "Epoch 228/500\n",
            "2/2 [==============================] - 0s 7ms/step - loss: 9.3367 - mse: 169.4956\n",
            "Epoch 229/500\n",
            "2/2 [==============================] - 0s 7ms/step - loss: 18.0055 - mse: 453.3788\n",
            "Epoch 230/500\n",
            "2/2 [==============================] - 0s 9ms/step - loss: 15.6023 - mse: 314.6277\n",
            "Epoch 231/500\n",
            "2/2 [==============================] - 0s 8ms/step - loss: 21.1278 - mse: 666.8928\n",
            "Epoch 232/500\n",
            "2/2 [==============================] - 0s 7ms/step - loss: 25.4703 - mse: 929.0344\n",
            "Epoch 233/500\n",
            "2/2 [==============================] - 0s 7ms/step - loss: 16.4859 - mse: 394.7757\n",
            "Epoch 234/500\n",
            "2/2 [==============================] - 0s 7ms/step - loss: 7.3854 - mse: 67.9583\n",
            "Epoch 235/500\n",
            "2/2 [==============================] - 0s 7ms/step - loss: 17.1156 - mse: 409.8029\n",
            "Epoch 236/500\n",
            "2/2 [==============================] - 0s 7ms/step - loss: 7.2358 - mse: 70.9678\n",
            "Epoch 237/500\n",
            "2/2 [==============================] - 0s 7ms/step - loss: 9.3218 - mse: 120.8358\n",
            "Epoch 238/500\n",
            "2/2 [==============================] - 0s 7ms/step - loss: 8.1916 - mse: 87.9336\n",
            "Epoch 239/500\n",
            "2/2 [==============================] - 0s 8ms/step - loss: 17.0779 - mse: 439.4824\n",
            "Epoch 240/500\n",
            "2/2 [==============================] - 0s 10ms/step - loss: 8.9444 - mse: 109.1947\n",
            "Epoch 241/500\n",
            "2/2 [==============================] - 0s 7ms/step - loss: 12.8300 - mse: 251.2764\n",
            "Epoch 242/500\n",
            "2/2 [==============================] - 0s 7ms/step - loss: 10.9493 - mse: 183.0489\n",
            "Epoch 243/500\n",
            "2/2 [==============================] - 0s 7ms/step - loss: 17.3625 - mse: 464.1194\n",
            "Epoch 244/500\n",
            "2/2 [==============================] - 0s 7ms/step - loss: 14.5173 - mse: 288.7627\n",
            "Epoch 245/500\n",
            "2/2 [==============================] - 0s 7ms/step - loss: 15.0868 - mse: 311.1280\n",
            "Epoch 246/500\n",
            "2/2 [==============================] - 0s 9ms/step - loss: 16.1946 - mse: 396.7643\n",
            "Epoch 247/500\n",
            "2/2 [==============================] - 0s 7ms/step - loss: 18.1953 - mse: 450.9208\n",
            "Epoch 248/500\n",
            "2/2 [==============================] - 0s 8ms/step - loss: 13.7256 - mse: 261.2673\n",
            "Epoch 249/500\n",
            "2/2 [==============================] - 0s 8ms/step - loss: 14.8216 - mse: 305.9313\n",
            "Epoch 250/500\n",
            "2/2 [==============================] - 0s 8ms/step - loss: 18.5294 - mse: 468.1909\n",
            "Epoch 251/500\n",
            "2/2 [==============================] - 0s 7ms/step - loss: 13.8485 - mse: 267.2062\n",
            "Epoch 252/500\n",
            "2/2 [==============================] - 0s 12ms/step - loss: 29.4134 - mse: 1212.5082\n",
            "Epoch 253/500\n",
            "2/2 [==============================] - 0s 7ms/step - loss: 8.3435 - mse: 105.1349\n",
            "Epoch 254/500\n",
            "2/2 [==============================] - 0s 7ms/step - loss: 11.8619 - mse: 212.6194\n",
            "Epoch 255/500\n",
            "2/2 [==============================] - 0s 7ms/step - loss: 16.0490 - mse: 354.9188\n",
            "Epoch 256/500\n",
            "2/2 [==============================] - 0s 8ms/step - loss: 9.1077 - mse: 132.9895\n",
            "Epoch 257/500\n",
            "2/2 [==============================] - 0s 8ms/step - loss: 12.3995 - mse: 240.7474\n",
            "Epoch 258/500\n",
            "2/2 [==============================] - 0s 8ms/step - loss: 7.9138 - mse: 85.0148\n",
            "Epoch 259/500\n",
            "2/2 [==============================] - 0s 8ms/step - loss: 20.3183 - mse: 600.8980\n",
            "Epoch 260/500\n",
            "2/2 [==============================] - 0s 8ms/step - loss: 27.3598 - mse: 1125.9393\n",
            "Epoch 261/500\n",
            "2/2 [==============================] - 0s 8ms/step - loss: 10.0551 - mse: 151.1773\n",
            "Epoch 262/500\n",
            "2/2 [==============================] - 0s 8ms/step - loss: 9.0676 - mse: 125.4660\n",
            "Epoch 263/500\n",
            "2/2 [==============================] - 0s 8ms/step - loss: 8.3760 - mse: 99.1697\n",
            "Epoch 264/500\n",
            "2/2 [==============================] - 0s 7ms/step - loss: 19.0594 - mse: 507.2238\n",
            "Epoch 265/500\n",
            "2/2 [==============================] - 0s 8ms/step - loss: 11.6533 - mse: 200.7162\n",
            "Epoch 266/500\n",
            "2/2 [==============================] - 0s 8ms/step - loss: 13.5219 - mse: 260.3157\n",
            "Epoch 267/500\n",
            "2/2 [==============================] - 0s 8ms/step - loss: 11.2104 - mse: 227.8029\n",
            "Epoch 268/500\n",
            "2/2 [==============================] - 0s 8ms/step - loss: 19.4487 - mse: 562.9681\n",
            "Epoch 269/500\n",
            "2/2 [==============================] - 0s 8ms/step - loss: 39.8089 - mse: 2449.3582\n",
            "Epoch 270/500\n",
            "2/2 [==============================] - 0s 9ms/step - loss: 12.2918 - mse: 231.5813\n",
            "Epoch 271/500\n",
            "2/2 [==============================] - 0s 8ms/step - loss: 14.1092 - mse: 268.5310\n",
            "Epoch 272/500\n",
            "2/2 [==============================] - 0s 8ms/step - loss: 27.9294 - mse: 1071.8020\n",
            "Epoch 273/500\n",
            "2/2 [==============================] - 0s 8ms/step - loss: 8.0821 - mse: 88.0808\n",
            "Epoch 274/500\n",
            "2/2 [==============================] - 0s 8ms/step - loss: 6.4619 - mse: 47.1375\n",
            "Epoch 275/500\n",
            "2/2 [==============================] - 0s 8ms/step - loss: 34.1171 - mse: 1758.5752\n",
            "Epoch 276/500\n",
            "2/2 [==============================] - 0s 8ms/step - loss: 8.0062 - mse: 122.8132\n",
            "Epoch 277/500\n",
            "2/2 [==============================] - 0s 11ms/step - loss: 25.4099 - mse: 871.9181\n",
            "Epoch 278/500\n",
            "2/2 [==============================] - 0s 10ms/step - loss: 11.5028 - mse: 223.1472\n",
            "Epoch 279/500\n",
            "2/2 [==============================] - 0s 8ms/step - loss: 16.2445 - mse: 400.9308\n",
            "Epoch 280/500\n",
            "2/2 [==============================] - 0s 8ms/step - loss: 21.5218 - mse: 696.2852\n",
            "Epoch 281/500\n",
            "2/2 [==============================] - 0s 8ms/step - loss: 23.1138 - mse: 814.4707\n",
            "Epoch 282/500\n",
            "2/2 [==============================] - 0s 7ms/step - loss: 8.0821 - mse: 93.8684\n",
            "Epoch 283/500\n",
            "2/2 [==============================] - 0s 8ms/step - loss: 8.3503 - mse: 93.8563\n",
            "Epoch 284/500\n",
            "2/2 [==============================] - 0s 9ms/step - loss: 25.8483 - mse: 1012.2295\n",
            "Epoch 285/500\n",
            "2/2 [==============================] - 0s 8ms/step - loss: 14.3913 - mse: 328.9839\n",
            "Epoch 286/500\n",
            "2/2 [==============================] - 0s 8ms/step - loss: 4.5684 - mse: 30.0607\n",
            "Epoch 287/500\n",
            "2/2 [==============================] - 0s 8ms/step - loss: 12.9755 - mse: 242.0445\n",
            "Epoch 288/500\n",
            "2/2 [==============================] - 0s 8ms/step - loss: 24.7485 - mse: 884.5356\n",
            "Epoch 289/500\n",
            "2/2 [==============================] - 0s 7ms/step - loss: 9.7198 - mse: 142.0668\n",
            "Epoch 290/500\n",
            "2/2 [==============================] - 0s 8ms/step - loss: 11.7706 - mse: 220.2045\n",
            "Epoch 291/500\n",
            "2/2 [==============================] - 0s 7ms/step - loss: 10.1340 - mse: 182.1417\n",
            "Epoch 292/500\n",
            "2/2 [==============================] - 0s 7ms/step - loss: 16.7472 - mse: 356.5033\n",
            "Epoch 293/500\n",
            "2/2 [==============================] - 0s 7ms/step - loss: 17.5798 - mse: 487.9558\n",
            "Epoch 294/500\n",
            "2/2 [==============================] - 0s 7ms/step - loss: 29.9480 - mse: 1432.9529\n",
            "Epoch 295/500\n",
            "2/2 [==============================] - 0s 7ms/step - loss: 8.0640 - mse: 84.9750\n",
            "Epoch 296/500\n",
            "2/2 [==============================] - 0s 7ms/step - loss: 16.1829 - mse: 381.2587\n",
            "Epoch 297/500\n",
            "2/2 [==============================] - 0s 7ms/step - loss: 14.5006 - mse: 291.9593\n",
            "Epoch 298/500\n",
            "2/2 [==============================] - 0s 7ms/step - loss: 21.8823 - mse: 713.0804\n",
            "Epoch 299/500\n",
            "2/2 [==============================] - 0s 8ms/step - loss: 20.6677 - mse: 638.9980\n",
            "Epoch 300/500\n",
            "2/2 [==============================] - 0s 7ms/step - loss: 9.4249 - mse: 139.2008\n",
            "Epoch 301/500\n",
            "2/2 [==============================] - 0s 9ms/step - loss: 12.9816 - mse: 251.3120\n",
            "Epoch 302/500\n",
            "2/2 [==============================] - 0s 11ms/step - loss: 7.5296 - mse: 76.8818\n",
            "Epoch 303/500\n",
            "2/2 [==============================] - 0s 12ms/step - loss: 18.4003 - mse: 495.1029\n",
            "Epoch 304/500\n",
            "2/2 [==============================] - 0s 13ms/step - loss: 11.8605 - mse: 207.5683\n",
            "Epoch 305/500\n",
            "2/2 [==============================] - 0s 13ms/step - loss: 9.0019 - mse: 121.3318\n",
            "Epoch 306/500\n",
            "2/2 [==============================] - 0s 11ms/step - loss: 21.4730 - mse: 648.4470\n",
            "Epoch 307/500\n",
            "2/2 [==============================] - 0s 12ms/step - loss: 8.3286 - mse: 143.0583\n",
            "Epoch 308/500\n",
            "2/2 [==============================] - 0s 12ms/step - loss: 21.0527 - mse: 677.3926\n",
            "Epoch 309/500\n",
            "2/2 [==============================] - 0s 7ms/step - loss: 19.0005 - mse: 518.2867\n",
            "Epoch 310/500\n",
            "2/2 [==============================] - 0s 7ms/step - loss: 5.9651 - mse: 76.1299\n",
            "Epoch 311/500\n",
            "2/2 [==============================] - 0s 7ms/step - loss: 8.8517 - mse: 158.5697\n",
            "Epoch 312/500\n",
            "2/2 [==============================] - 0s 8ms/step - loss: 29.9553 - mse: 1239.3378\n",
            "Epoch 313/500\n",
            "2/2 [==============================] - 0s 7ms/step - loss: 7.7338 - mse: 105.8594\n",
            "Epoch 314/500\n",
            "2/2 [==============================] - 0s 8ms/step - loss: 9.9479 - mse: 240.1445\n",
            "Epoch 315/500\n",
            "2/2 [==============================] - 0s 8ms/step - loss: 23.7812 - mse: 820.9227\n",
            "Epoch 316/500\n",
            "2/2 [==============================] - 0s 7ms/step - loss: 16.3688 - mse: 403.8778\n",
            "Epoch 317/500\n",
            "2/2 [==============================] - 0s 7ms/step - loss: 20.9356 - mse: 597.3182\n",
            "Epoch 318/500\n",
            "2/2 [==============================] - 0s 8ms/step - loss: 9.3175 - mse: 122.7415\n",
            "Epoch 319/500\n",
            "2/2 [==============================] - 0s 8ms/step - loss: 11.9001 - mse: 236.2077\n",
            "Epoch 320/500\n",
            "2/2 [==============================] - 0s 8ms/step - loss: 12.5238 - mse: 259.4063\n",
            "Epoch 321/500\n",
            "2/2 [==============================] - 0s 8ms/step - loss: 5.3946 - mse: 63.2340\n",
            "Epoch 322/500\n",
            "2/2 [==============================] - 0s 7ms/step - loss: 14.1990 - mse: 275.1863\n",
            "Epoch 323/500\n",
            "2/2 [==============================] - 0s 8ms/step - loss: 18.6095 - mse: 534.1494\n",
            "Epoch 324/500\n",
            "2/2 [==============================] - 0s 8ms/step - loss: 18.0731 - mse: 488.3271\n",
            "Epoch 325/500\n",
            "2/2 [==============================] - 0s 8ms/step - loss: 7.2659 - mse: 119.1910\n",
            "Epoch 326/500\n",
            "2/2 [==============================] - 0s 8ms/step - loss: 22.1079 - mse: 720.7614\n",
            "Epoch 327/500\n",
            "2/2 [==============================] - 0s 8ms/step - loss: 22.0667 - mse: 686.8113\n",
            "Epoch 328/500\n",
            "2/2 [==============================] - 0s 9ms/step - loss: 13.2884 - mse: 252.3081\n",
            "Epoch 329/500\n",
            "2/2 [==============================] - 0s 10ms/step - loss: 16.2097 - mse: 396.1400\n",
            "Epoch 330/500\n",
            "2/2 [==============================] - 0s 11ms/step - loss: 7.4640 - mse: 80.0874\n",
            "Epoch 331/500\n",
            "2/2 [==============================] - 0s 10ms/step - loss: 23.0059 - mse: 816.5907\n",
            "Epoch 332/500\n",
            "2/2 [==============================] - 0s 8ms/step - loss: 13.6739 - mse: 282.5772\n",
            "Epoch 333/500\n",
            "2/2 [==============================] - 0s 8ms/step - loss: 10.7407 - mse: 186.7310\n",
            "Epoch 334/500\n",
            "2/2 [==============================] - 0s 7ms/step - loss: 7.0666 - mse: 133.7008\n",
            "Epoch 335/500\n",
            "2/2 [==============================] - 0s 8ms/step - loss: 13.0389 - mse: 277.7920\n",
            "Epoch 336/500\n",
            "2/2 [==============================] - 0s 9ms/step - loss: 32.3728 - mse: 1428.8164\n",
            "Epoch 337/500\n",
            "2/2 [==============================] - 0s 8ms/step - loss: 10.6185 - mse: 177.8531\n",
            "Epoch 338/500\n",
            "2/2 [==============================] - 0s 9ms/step - loss: 20.0699 - mse: 591.1835\n",
            "Epoch 339/500\n",
            "2/2 [==============================] - 0s 7ms/step - loss: 34.0024 - mse: 1728.2341\n",
            "Epoch 340/500\n",
            "2/2 [==============================] - 0s 8ms/step - loss: 8.7549 - mse: 107.3793\n",
            "Epoch 341/500\n",
            "2/2 [==============================] - 0s 7ms/step - loss: 21.6276 - mse: 654.4395\n",
            "Epoch 342/500\n",
            "2/2 [==============================] - 0s 8ms/step - loss: 13.9532 - mse: 261.5985\n",
            "Epoch 343/500\n",
            "2/2 [==============================] - 0s 9ms/step - loss: 11.8285 - mse: 184.5768\n",
            "Epoch 344/500\n",
            "2/2 [==============================] - 0s 8ms/step - loss: 10.7791 - mse: 223.8756\n",
            "Epoch 345/500\n",
            "2/2 [==============================] - 0s 11ms/step - loss: 30.9856 - mse: 1349.1021\n",
            "Epoch 346/500\n",
            "2/2 [==============================] - 0s 10ms/step - loss: 10.7224 - mse: 254.9613\n",
            "Epoch 347/500\n",
            "2/2 [==============================] - 0s 8ms/step - loss: 25.6987 - mse: 923.5273\n",
            "Epoch 348/500\n",
            "2/2 [==============================] - 0s 8ms/step - loss: 12.8580 - mse: 256.0897\n",
            "Epoch 349/500\n",
            "2/2 [==============================] - 0s 8ms/step - loss: 12.5116 - mse: 255.1626\n",
            "Epoch 350/500\n",
            "2/2 [==============================] - 0s 8ms/step - loss: 15.2540 - mse: 306.6379\n",
            "Epoch 351/500\n",
            "2/2 [==============================] - 0s 9ms/step - loss: 32.5295 - mse: 1486.7889\n",
            "Epoch 352/500\n",
            "2/2 [==============================] - 0s 11ms/step - loss: 13.5659 - mse: 264.4727\n",
            "Epoch 353/500\n",
            "2/2 [==============================] - 0s 10ms/step - loss: 17.4754 - mse: 463.7837\n",
            "Epoch 354/500\n",
            "2/2 [==============================] - 0s 7ms/step - loss: 11.2029 - mse: 245.4965\n",
            "Epoch 355/500\n",
            "2/2 [==============================] - 0s 8ms/step - loss: 26.4475 - mse: 1001.4041\n",
            "Epoch 356/500\n",
            "2/2 [==============================] - 0s 12ms/step - loss: 11.0334 - mse: 207.6206\n",
            "Epoch 357/500\n",
            "2/2 [==============================] - 0s 11ms/step - loss: 13.2751 - mse: 288.2781\n",
            "Epoch 358/500\n",
            "2/2 [==============================] - 0s 10ms/step - loss: 14.6915 - mse: 327.4962\n",
            "Epoch 359/500\n",
            "2/2 [==============================] - 0s 8ms/step - loss: 12.3827 - mse: 314.8111\n",
            "Epoch 360/500\n",
            "2/2 [==============================] - 0s 8ms/step - loss: 20.3722 - mse: 622.1444\n",
            "Epoch 361/500\n",
            "2/2 [==============================] - 0s 8ms/step - loss: 10.9235 - mse: 219.2061\n",
            "Epoch 362/500\n",
            "2/2 [==============================] - 0s 9ms/step - loss: 6.9157 - mse: 79.1621\n",
            "Epoch 363/500\n",
            "2/2 [==============================] - 0s 8ms/step - loss: 23.7403 - mse: 819.2283\n",
            "Epoch 364/500\n",
            "2/2 [==============================] - 0s 7ms/step - loss: 29.4299 - mse: 1256.2688\n",
            "Epoch 365/500\n",
            "2/2 [==============================] - 0s 9ms/step - loss: 8.3462 - mse: 107.8733\n",
            "Epoch 366/500\n",
            "2/2 [==============================] - 0s 7ms/step - loss: 6.2034 - mse: 50.8872\n",
            "Epoch 367/500\n",
            "2/2 [==============================] - 0s 11ms/step - loss: 34.3454 - mse: 1789.5234\n",
            "Epoch 368/500\n",
            "2/2 [==============================] - 0s 7ms/step - loss: 7.4078 - mse: 102.5298\n",
            "Epoch 369/500\n",
            "2/2 [==============================] - 0s 7ms/step - loss: 8.2401 - mse: 92.1596\n",
            "Epoch 370/500\n",
            "2/2 [==============================] - 0s 8ms/step - loss: 17.8897 - mse: 462.0370\n",
            "Epoch 371/500\n",
            "2/2 [==============================] - 0s 8ms/step - loss: 7.0858 - mse: 87.2502\n",
            "Epoch 372/500\n",
            "2/2 [==============================] - 0s 7ms/step - loss: 6.7000 - mse: 76.8798\n",
            "Epoch 373/500\n",
            "2/2 [==============================] - 0s 9ms/step - loss: 24.5021 - mse: 891.4545\n",
            "Epoch 374/500\n",
            "2/2 [==============================] - 0s 7ms/step - loss: 9.8430 - mse: 191.4034\n",
            "Epoch 375/500\n",
            "2/2 [==============================] - 0s 8ms/step - loss: 13.1574 - mse: 242.1290\n",
            "Epoch 376/500\n",
            "2/2 [==============================] - 0s 7ms/step - loss: 15.0389 - mse: 333.2101\n",
            "Epoch 377/500\n",
            "2/2 [==============================] - 0s 8ms/step - loss: 14.9516 - mse: 299.6329\n",
            "Epoch 378/500\n",
            "2/2 [==============================] - 0s 7ms/step - loss: 16.3973 - mse: 428.1391\n",
            "Epoch 379/500\n",
            "2/2 [==============================] - 0s 8ms/step - loss: 21.0744 - mse: 608.7612\n",
            "Epoch 380/500\n",
            "2/2 [==============================] - 0s 9ms/step - loss: 32.8431 - mse: 1611.7423\n",
            "Epoch 381/500\n",
            "2/2 [==============================] - 0s 9ms/step - loss: 8.1294 - mse: 97.8886\n",
            "Epoch 382/500\n",
            "2/2 [==============================] - 0s 7ms/step - loss: 12.5196 - mse: 259.7779\n",
            "Epoch 383/500\n",
            "2/2 [==============================] - 0s 10ms/step - loss: 7.2700 - mse: 102.4798\n",
            "Epoch 384/500\n",
            "2/2 [==============================] - 0s 8ms/step - loss: 6.5530 - mse: 68.1015\n",
            "Epoch 385/500\n",
            "2/2 [==============================] - 0s 9ms/step - loss: 11.6571 - mse: 255.2939\n",
            "Epoch 386/500\n",
            "2/2 [==============================] - 0s 9ms/step - loss: 19.9850 - mse: 611.7496\n",
            "Epoch 387/500\n",
            "2/2 [==============================] - 0s 8ms/step - loss: 24.3597 - mse: 860.0535\n",
            "Epoch 388/500\n",
            "2/2 [==============================] - 0s 8ms/step - loss: 7.7543 - mse: 90.8305\n",
            "Epoch 389/500\n",
            "2/2 [==============================] - 0s 8ms/step - loss: 14.2123 - mse: 306.5534\n",
            "Epoch 390/500\n",
            "2/2 [==============================] - 0s 10ms/step - loss: 5.6228 - mse: 60.5906\n",
            "Epoch 391/500\n",
            "2/2 [==============================] - 0s 9ms/step - loss: 17.7992 - mse: 471.0840\n",
            "Epoch 392/500\n",
            "2/2 [==============================] - 0s 9ms/step - loss: 16.5926 - mse: 441.4813\n",
            "Epoch 393/500\n",
            "2/2 [==============================] - 0s 7ms/step - loss: 9.4015 - mse: 227.8075\n",
            "Epoch 394/500\n",
            "2/2 [==============================] - 0s 8ms/step - loss: 14.1829 - mse: 276.1300\n",
            "Epoch 395/500\n",
            "2/2 [==============================] - 0s 8ms/step - loss: 28.6053 - mse: 1134.8463\n",
            "Epoch 396/500\n",
            "2/2 [==============================] - 0s 7ms/step - loss: 8.4169 - mse: 112.6617\n",
            "Epoch 397/500\n",
            "2/2 [==============================] - 0s 8ms/step - loss: 10.7017 - mse: 209.1012\n",
            "Epoch 398/500\n",
            "2/2 [==============================] - 0s 7ms/step - loss: 7.5464 - mse: 83.4625\n",
            "Epoch 399/500\n",
            "2/2 [==============================] - 0s 9ms/step - loss: 15.7570 - mse: 375.3364\n",
            "Epoch 400/500\n",
            "2/2 [==============================] - 0s 9ms/step - loss: 6.8883 - mse: 63.4810\n",
            "Epoch 401/500\n",
            "2/2 [==============================] - 0s 9ms/step - loss: 8.1176 - mse: 116.5174\n",
            "Epoch 402/500\n",
            "2/2 [==============================] - 0s 9ms/step - loss: 16.6118 - mse: 396.8531\n",
            "Epoch 403/500\n",
            "2/2 [==============================] - 0s 9ms/step - loss: 12.3874 - mse: 298.1031\n",
            "Epoch 404/500\n",
            "2/2 [==============================] - 0s 8ms/step - loss: 22.9269 - mse: 736.8898\n",
            "Epoch 405/500\n",
            "2/2 [==============================] - 0s 8ms/step - loss: 18.1257 - mse: 503.3906\n",
            "Epoch 406/500\n",
            "2/2 [==============================] - 0s 8ms/step - loss: 7.1649 - mse: 77.5297\n",
            "Epoch 407/500\n",
            "2/2 [==============================] - 0s 9ms/step - loss: 12.6860 - mse: 271.3240\n",
            "Epoch 408/500\n",
            "2/2 [==============================] - 0s 9ms/step - loss: 5.7606 - mse: 42.2826\n",
            "Epoch 409/500\n",
            "2/2 [==============================] - 0s 7ms/step - loss: 31.1490 - mse: 1504.9575\n",
            "Epoch 410/500\n",
            "2/2 [==============================] - 0s 7ms/step - loss: 9.3208 - mse: 221.2226\n",
            "Epoch 411/500\n",
            "2/2 [==============================] - 0s 9ms/step - loss: 14.9163 - mse: 287.5239\n",
            "Epoch 412/500\n",
            "2/2 [==============================] - 0s 11ms/step - loss: 21.7978 - mse: 725.2850\n",
            "Epoch 413/500\n",
            "2/2 [==============================] - 0s 7ms/step - loss: 12.5582 - mse: 245.9232\n",
            "Epoch 414/500\n",
            "2/2 [==============================] - 0s 7ms/step - loss: 6.1489 - mse: 88.1080\n",
            "Epoch 415/500\n",
            "2/2 [==============================] - 0s 8ms/step - loss: 13.2541 - mse: 240.6616\n",
            "Epoch 416/500\n",
            "2/2 [==============================] - 0s 8ms/step - loss: 27.4892 - mse: 1042.1445\n",
            "Epoch 417/500\n",
            "2/2 [==============================] - 0s 10ms/step - loss: 10.3340 - mse: 194.0620\n",
            "Epoch 418/500\n",
            "2/2 [==============================] - 0s 7ms/step - loss: 12.1168 - mse: 228.1868\n",
            "Epoch 419/500\n",
            "2/2 [==============================] - 0s 8ms/step - loss: 15.4565 - mse: 337.7685\n",
            "Epoch 420/500\n",
            "2/2 [==============================] - 0s 11ms/step - loss: 23.8285 - mse: 792.2676\n",
            "Epoch 421/500\n",
            "2/2 [==============================] - 0s 7ms/step - loss: 19.7817 - mse: 562.9877\n",
            "Epoch 422/500\n",
            "2/2 [==============================] - 0s 8ms/step - loss: 4.0880 - mse: 24.0395\n",
            "Epoch 423/500\n",
            "2/2 [==============================] - 0s 8ms/step - loss: 34.4563 - mse: 1744.9568\n",
            "Epoch 424/500\n",
            "2/2 [==============================] - 0s 10ms/step - loss: 12.9965 - mse: 302.2149\n",
            "Epoch 425/500\n",
            "2/2 [==============================] - 0s 7ms/step - loss: 6.9924 - mse: 74.2918\n",
            "Epoch 426/500\n",
            "2/2 [==============================] - 0s 10ms/step - loss: 19.3923 - mse: 521.7004\n",
            "Epoch 427/500\n",
            "2/2 [==============================] - 0s 10ms/step - loss: 3.8195 - mse: 22.1088\n",
            "Epoch 428/500\n",
            "2/2 [==============================] - 0s 8ms/step - loss: 22.1230 - mse: 703.9382\n",
            "Epoch 429/500\n",
            "2/2 [==============================] - 0s 11ms/step - loss: 16.6583 - mse: 407.5174\n",
            "Epoch 430/500\n",
            "2/2 [==============================] - 0s 10ms/step - loss: 11.5769 - mse: 251.6095\n",
            "Epoch 431/500\n",
            "2/2 [==============================] - 0s 7ms/step - loss: 10.7818 - mse: 220.9373\n",
            "Epoch 432/500\n",
            "2/2 [==============================] - 0s 7ms/step - loss: 11.6573 - mse: 243.1522\n",
            "Epoch 433/500\n",
            "2/2 [==============================] - 0s 8ms/step - loss: 10.8800 - mse: 262.4074\n",
            "Epoch 434/500\n",
            "2/2 [==============================] - 0s 8ms/step - loss: 30.6697 - mse: 1318.0204\n",
            "Epoch 435/500\n",
            "2/2 [==============================] - 0s 7ms/step - loss: 11.2330 - mse: 303.6003\n",
            "Epoch 436/500\n",
            "2/2 [==============================] - 0s 7ms/step - loss: 28.7845 - mse: 1208.7441\n",
            "Epoch 437/500\n",
            "2/2 [==============================] - 0s 8ms/step - loss: 8.1183 - mse: 181.8637\n",
            "Epoch 438/500\n",
            "2/2 [==============================] - 0s 8ms/step - loss: 12.8513 - mse: 248.4086\n",
            "Epoch 439/500\n",
            "2/2 [==============================] - 0s 8ms/step - loss: 33.9199 - mse: 1592.0750\n",
            "Epoch 440/500\n",
            "2/2 [==============================] - 0s 7ms/step - loss: 15.4969 - mse: 312.0347\n",
            "Epoch 441/500\n",
            "2/2 [==============================] - 0s 8ms/step - loss: 17.8555 - mse: 517.3660\n",
            "Epoch 442/500\n",
            "2/2 [==============================] - 0s 11ms/step - loss: 17.5525 - mse: 435.1013\n",
            "Epoch 443/500\n",
            "2/2 [==============================] - 0s 14ms/step - loss: 7.7050 - mse: 159.3038\n",
            "Epoch 444/500\n",
            "2/2 [==============================] - 0s 8ms/step - loss: 22.8730 - mse: 763.6400\n",
            "Epoch 445/500\n",
            "2/2 [==============================] - 0s 8ms/step - loss: 12.1007 - mse: 226.4911\n",
            "Epoch 446/500\n",
            "2/2 [==============================] - 0s 15ms/step - loss: 10.5055 - mse: 206.8768\n",
            "Epoch 447/500\n",
            "2/2 [==============================] - 0s 8ms/step - loss: 16.9749 - mse: 420.2663\n",
            "Epoch 448/500\n",
            "2/2 [==============================] - 0s 10ms/step - loss: 11.6883 - mse: 236.5113\n",
            "Epoch 449/500\n",
            "2/2 [==============================] - 0s 11ms/step - loss: 14.8752 - mse: 307.5217\n",
            "Epoch 450/500\n",
            "2/2 [==============================] - 0s 8ms/step - loss: 17.6349 - mse: 488.1876\n",
            "Epoch 451/500\n",
            "2/2 [==============================] - 0s 10ms/step - loss: 14.6714 - mse: 348.8850\n",
            "Epoch 452/500\n",
            "2/2 [==============================] - 0s 9ms/step - loss: 31.3347 - mse: 1386.5300\n",
            "Epoch 453/500\n",
            "2/2 [==============================] - 0s 7ms/step - loss: 10.6307 - mse: 274.9255\n",
            "Epoch 454/500\n",
            "2/2 [==============================] - 0s 7ms/step - loss: 26.9578 - mse: 1018.0623\n",
            "Epoch 455/500\n",
            "2/2 [==============================] - 0s 9ms/step - loss: 12.0491 - mse: 248.1876\n",
            "Epoch 456/500\n",
            "2/2 [==============================] - 0s 7ms/step - loss: 15.4360 - mse: 321.2798\n",
            "Epoch 457/500\n",
            "2/2 [==============================] - 0s 8ms/step - loss: 19.2111 - mse: 549.5817\n",
            "Epoch 458/500\n",
            "2/2 [==============================] - 0s 7ms/step - loss: 23.1468 - mse: 792.6196\n",
            "Epoch 459/500\n",
            "2/2 [==============================] - 0s 9ms/step - loss: 16.5657 - mse: 389.7695\n",
            "Epoch 460/500\n",
            "2/2 [==============================] - 0s 7ms/step - loss: 3.3523 - mse: 15.7892\n",
            "Epoch 461/500\n",
            "2/2 [==============================] - 0s 8ms/step - loss: 14.8592 - mse: 296.7269\n",
            "Epoch 462/500\n",
            "2/2 [==============================] - 0s 11ms/step - loss: 14.6535 - mse: 322.2662\n",
            "Epoch 463/500\n",
            "2/2 [==============================] - 0s 14ms/step - loss: 16.1624 - mse: 386.2365\n",
            "Epoch 464/500\n",
            "2/2 [==============================] - 0s 9ms/step - loss: 13.4733 - mse: 275.7923\n",
            "Epoch 465/500\n",
            "2/2 [==============================] - 0s 7ms/step - loss: 22.7425 - mse: 766.7347\n",
            "Epoch 466/500\n",
            "2/2 [==============================] - 0s 13ms/step - loss: 22.2468 - mse: 700.0529\n",
            "Epoch 467/500\n",
            "2/2 [==============================] - 0s 10ms/step - loss: 12.4634 - mse: 250.7895\n",
            "Epoch 468/500\n",
            "2/2 [==============================] - 0s 14ms/step - loss: 10.9619 - mse: 278.2682\n",
            "Epoch 469/500\n",
            "2/2 [==============================] - 0s 11ms/step - loss: 27.3545 - mse: 1050.0823\n",
            "Epoch 470/500\n",
            "2/2 [==============================] - 0s 8ms/step - loss: 12.4978 - mse: 269.0037\n",
            "Epoch 471/500\n",
            "2/2 [==============================] - 0s 12ms/step - loss: 12.0692 - mse: 251.5672\n",
            "Epoch 472/500\n",
            "2/2 [==============================] - 0s 8ms/step - loss: 15.5345 - mse: 342.1140\n",
            "Epoch 473/500\n",
            "2/2 [==============================] - 0s 8ms/step - loss: 15.5699 - mse: 412.0201\n",
            "Epoch 474/500\n",
            "2/2 [==============================] - 0s 9ms/step - loss: 8.8452 - mse: 161.2529\n",
            "Epoch 475/500\n",
            "2/2 [==============================] - 0s 8ms/step - loss: 5.5866 - mse: 78.2393\n",
            "Epoch 476/500\n",
            "2/2 [==============================] - 0s 9ms/step - loss: 8.8828 - mse: 176.8642\n",
            "Epoch 477/500\n",
            "2/2 [==============================] - 0s 9ms/step - loss: 28.4203 - mse: 1135.1539\n",
            "Epoch 478/500\n",
            "2/2 [==============================] - 0s 11ms/step - loss: 7.1512 - mse: 82.5410\n",
            "Epoch 479/500\n",
            "2/2 [==============================] - 0s 11ms/step - loss: 5.9501 - mse: 62.9195\n",
            "Epoch 480/500\n",
            "2/2 [==============================] - 0s 9ms/step - loss: 18.5744 - mse: 502.6249\n",
            "Epoch 481/500\n",
            "2/2 [==============================] - 0s 11ms/step - loss: 10.9555 - mse: 296.4815\n",
            "Epoch 482/500\n",
            "2/2 [==============================] - 0s 11ms/step - loss: 18.4405 - mse: 555.4363\n",
            "Epoch 483/500\n",
            "2/2 [==============================] - 0s 9ms/step - loss: 19.8504 - mse: 557.2525\n",
            "Epoch 484/500\n",
            "2/2 [==============================] - 0s 8ms/step - loss: 18.0674 - mse: 458.8525\n",
            "Epoch 485/500\n",
            "2/2 [==============================] - 0s 8ms/step - loss: 7.9621 - mse: 196.6228\n",
            "Epoch 486/500\n",
            "2/2 [==============================] - 0s 10ms/step - loss: 19.5084 - mse: 577.9473\n",
            "Epoch 487/500\n",
            "2/2 [==============================] - 0s 7ms/step - loss: 12.1769 - mse: 258.2731\n",
            "Epoch 488/500\n",
            "2/2 [==============================] - 0s 7ms/step - loss: 12.4780 - mse: 235.2323\n",
            "Epoch 489/500\n",
            "2/2 [==============================] - 0s 12ms/step - loss: 16.1671 - mse: 356.2914\n",
            "Epoch 490/500\n",
            "2/2 [==============================] - 0s 8ms/step - loss: 14.3314 - mse: 286.8234\n",
            "Epoch 491/500\n",
            "2/2 [==============================] - 0s 7ms/step - loss: 26.4628 - mse: 1018.6888\n",
            "Epoch 492/500\n",
            "2/2 [==============================] - 0s 7ms/step - loss: 13.4147 - mse: 292.5207\n",
            "Epoch 493/500\n",
            "2/2 [==============================] - 0s 7ms/step - loss: 9.2383 - mse: 267.9743\n",
            "Epoch 494/500\n",
            "2/2 [==============================] - 0s 8ms/step - loss: 13.3510 - mse: 245.0804\n",
            "Epoch 495/500\n",
            "2/2 [==============================] - 0s 8ms/step - loss: 14.3922 - mse: 283.7536\n",
            "Epoch 496/500\n",
            "2/2 [==============================] - 0s 7ms/step - loss: 12.6592 - mse: 241.5858\n",
            "Epoch 497/500\n",
            "2/2 [==============================] - 0s 8ms/step - loss: 17.6093 - mse: 514.2428\n",
            "Epoch 498/500\n",
            "2/2 [==============================] - 0s 7ms/step - loss: 23.6120 - mse: 820.8220\n",
            "Epoch 499/500\n",
            "2/2 [==============================] - 0s 7ms/step - loss: 9.3122 - mse: 133.4171\n",
            "Epoch 500/500\n",
            "2/2 [==============================] - 0s 7ms/step - loss: 14.3843 - mse: 272.6533\n"
          ]
        },
        {
          "output_type": "execute_result",
          "data": {
            "text/plain": [
              "<keras.src.callbacks.History at 0x77fde4e64880>"
            ]
          },
          "metadata": {},
          "execution_count": 145
        }
      ]
    },
    {
      "cell_type": "code",
      "source": [
        "y_pred_3 = model_3.predict(x_test)\n",
        "y_pred_3\n"
      ],
      "metadata": {
        "colab": {
          "base_uri": "https://localhost:8080/"
        },
        "id": "KvOo54XvuQgG",
        "outputId": "7f4f120c-c852-40a1-9313-2ca0136a39c6"
      },
      "execution_count": 146,
      "outputs": [
        {
          "output_type": "stream",
          "name": "stdout",
          "text": [
            "1/1 [==============================] - 0s 54ms/step\n"
          ]
        },
        {
          "output_type": "execute_result",
          "data": {
            "text/plain": [
              "array([[16.442293],\n",
              "       [17.24663 ],\n",
              "       [18.050966],\n",
              "       [18.855305],\n",
              "       [19.659641],\n",
              "       [20.463982],\n",
              "       [21.268318],\n",
              "       [22.072653],\n",
              "       [22.87699 ],\n",
              "       [23.681328]], dtype=float32)"
            ]
          },
          "metadata": {},
          "execution_count": 146
        }
      ]
    },
    {
      "cell_type": "code",
      "source": [
        "plot_predictions(predictions=y_pred_3)"
      ],
      "metadata": {
        "colab": {
          "base_uri": "https://localhost:8080/",
          "height": 599
        },
        "id": "GYziF0-vumZC",
        "outputId": "b3967dfc-d674-42ae-fa72-dba56fc09fc6"
      },
      "execution_count": 147,
      "outputs": [
        {
          "output_type": "display_data",
          "data": {
            "text/plain": [
              "<Figure size 1000x700 with 1 Axes>"
            ],
            "image/png": "[encoded data removed]"
          },
          "metadata": {}
        }
      ]
    },
    {
      "cell_type": "code",
      "source": [
        "mae_3 = mae(y_test , y_pred_3)\n",
        "mse_3 = mse(y_test , y_pred_3)\n",
        "mae_3 , mse_3"
      ],
      "metadata": {
        "colab": {
          "base_uri": "https://localhost:8080/"
        },
        "id": "zW8ovLK8usSi",
        "outputId": "2740f277-951c-4675-f4ab-3b77f674c87b"
      },
      "execution_count": 149,
      "outputs": [
        {
          "output_type": "execute_result",
          "data": {
            "text/plain": [
              "(<tf.Tensor: shape=(), dtype=float32, numpy=67.93819>,\n",
              " <tf.Tensor: shape=(), dtype=float32, numpy=4699.8486>)"
            ]
          },
          "metadata": {},
          "execution_count": 149
        }
      ]
    },
    {
      "cell_type": "code",
      "source": [
        "#Comparing the results of our experiments\n"
      ],
      "metadata": {
        "id": "xu2Vgg2RwD1_"
      },
      "execution_count": null,
      "outputs": []
    }
  ]
}