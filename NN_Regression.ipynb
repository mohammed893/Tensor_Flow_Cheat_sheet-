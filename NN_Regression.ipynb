{
  "nbformat": 4,
  "nbformat_minor": 0,
  "metadata": {
    "colab": {
      "provenance": [],
      "authorship_tag": "ABX9TyMOCCaLrtedHUIB333URMXi",
      "include_colab_link": true
    },
    "kernelspec": {
      "name": "python3",
      "display_name": "Python 3"
    },
    "language_info": {
      "name": "python"
    }
  },
  "cells": [
    {
      "cell_type": "markdown",
      "metadata": {
        "id": "view-in-github",
        "colab_type": "text"
      },
      "source": [
        "<a href=\"https://colab.research.google.com/github/mohammed893/Tensor_Flow_Cheat_sheet-/blob/main/NN_Regression.ipynb\" target=\"_parent\"><img src=\"https://colab.research.google.com/assets/colab-badge.svg\" alt=\"Open In Colab\"/></a>"
      ]
    },
    {
      "cell_type": "code",
      "execution_count": null,
      "metadata": {
        "id": "L6IKG0q5aDtI"
      },
      "outputs": [],
      "source": [
        "# Intro to Regression with NeuralNetworks in TensorFlow"
      ]
    },
    {
      "cell_type": "code",
      "source": [
        "#Import TensorFlow\n",
        "import tensorflow as tf\n",
        "print(tf.__version__)"
      ],
      "metadata": {
        "colab": {
          "base_uri": "https://localhost:8080/"
        },
        "id": "uDuTRvCqbFWd",
        "outputId": "d0695479-1047-4593-ec66-d72ae848d288"
      },
      "execution_count": 1,
      "outputs": [
        {
          "output_type": "stream",
          "name": "stdout",
          "text": [
            "2.14.0\n"
          ]
        }
      ]
    },
    {
      "cell_type": "markdown",
      "source": [
        "## Creating Data to view and fit"
      ],
      "metadata": {
        "id": "VrN68grdbMwE"
      }
    },
    {
      "cell_type": "code",
      "source": [
        "import numpy as np\n",
        "import matplotlib.pyplot as plt\n",
        "\n",
        "#Create Features\n",
        "x = np.array([-7.0,-4.0 , -1.0 , 2.0 , 5.0 , 8.0 ,11.0 ,14.0 ])\n",
        "\n",
        "#Create Labels\n",
        "y = np.array([3.0 , 6.0 , 9.0 , 12.0 , 15.0 , 18.0 , 21.0 , 24.0 ])\n",
        "\n",
        "#Visualize it\n",
        "plt.scatter(x , y);\n"
      ],
      "metadata": {
        "colab": {
          "base_uri": "https://localhost:8080/",
          "height": 435
        },
        "id": "KvJBnxp8bh-v",
        "outputId": "c6a26aee-3ba5-440b-d0a0-3f363fad5c8d"
      },
      "execution_count": 2,
      "outputs": [
        {
          "output_type": "display_data",
          "data": {
            "text/plain": [
              "<Figure size 640x480 with 1 Axes>"
            ],
            "image/png": "[encoded data removed]"
          },
          "metadata": {}
        }
      ]
    },
    {
      "cell_type": "markdown",
      "source": [
        "#*INPUTS AND OUTPUTS SHAPES*\n",
        "\n"
      ],
      "metadata": {
        "id": "G_2APcqRcDKH"
      }
    },
    {
      "cell_type": "code",
      "source": [
        "#Creating a demo tensor for housing price prediction problem\n",
        "house_info = tf.constant(['bedroom' , 'bathroom' , 'garage'])\n",
        "house_price = tf.constant([939700])\n",
        "house_info , house_price"
      ],
      "metadata": {
        "colab": {
          "base_uri": "https://localhost:8080/"
        },
        "id": "IfdOFLmKdwBp",
        "outputId": "f7d64915-0f83-4acb-9e66-19fe895d5009"
      },
      "execution_count": 4,
      "outputs": [
        {
          "output_type": "execute_result",
          "data": {
            "text/plain": [
              "(<tf.Tensor: shape=(3,), dtype=string, numpy=array([b'bedroom', b'bathroom', b'garage'], dtype=object)>,\n",
              " <tf.Tensor: shape=(1,), dtype=int32, numpy=array([939700], dtype=int32)>)"
            ]
          },
          "metadata": {},
          "execution_count": 4
        }
      ]
    },
    {
      "cell_type": "markdown",
      "source": [
        "#Steps in modelling with tensorflow\n",
        "\n",
        "\n",
        "1.   Create the model - Define inputs , outputs Layers as well as the hidden layers of a DL Model\n",
        "2.   Compile a model - Define the >> *loss function* and the >> *optimizer*(Thing that tell that model how to improve the patterns its learning) and >> *Evaluation* metrics (What we can use to interpret the performance)\n",
        "\n",
        "3.   Fitting the Model\n",
        "\n",
        "\n"
      ],
      "metadata": {
        "id": "WS1aOYXOfsNG"
      }
    },
    {
      "cell_type": "markdown",
      "source": [
        "# Evaluating A model"
      ],
      "metadata": {
        "id": "7iWHOCeKjF-d"
      }
    },
    {
      "cell_type": "code",
      "source": [
        "#Make a bigger DataSet\n",
        "x = tf.range(-100 , 100 , 4)\n",
        "x"
      ],
      "metadata": {
        "colab": {
          "base_uri": "https://localhost:8080/"
        },
        "id": "rhT4YEm6wB1Z",
        "outputId": "0049bc4f-e18a-4462-d0c2-2a3b113fbf1a"
      },
      "execution_count": 13,
      "outputs": [
        {
          "output_type": "execute_result",
          "data": {
            "text/plain": [
              "<tf.Tensor: shape=(50,), dtype=int32, numpy=\n",
              "array([-100,  -96,  -92,  -88,  -84,  -80,  -76,  -72,  -68,  -64,  -60,\n",
              "        -56,  -52,  -48,  -44,  -40,  -36,  -32,  -28,  -24,  -20,  -16,\n",
              "        -12,   -8,   -4,    0,    4,    8,   12,   16,   20,   24,   28,\n",
              "         32,   36,   40,   44,   48,   52,   56,   60,   64,   68,   72,\n",
              "         76,   80,   84,   88,   92,   96], dtype=int32)>"
            ]
          },
          "metadata": {},
          "execution_count": 13
        }
      ]
    },
    {
      "cell_type": "code",
      "source": [
        "# Make Labels for the data set\n",
        "y = x + 10\n",
        "y"
      ],
      "metadata": {
        "colab": {
          "base_uri": "https://localhost:8080/"
        },
        "id": "SM4XMxIUwIp-",
        "outputId": "18a93e9b-3109-4594-e8d9-e8a2d2082884"
      },
      "execution_count": 14,
      "outputs": [
        {
          "output_type": "execute_result",
          "data": {
            "text/plain": [
              "<tf.Tensor: shape=(50,), dtype=int32, numpy=\n",
              "array([-90, -86, -82, -78, -74, -70, -66, -62, -58, -54, -50, -46, -42,\n",
              "       -38, -34, -30, -26, -22, -18, -14, -10,  -6,  -2,   2,   6,  10,\n",
              "        14,  18,  22,  26,  30,  34,  38,  42,  46,  50,  54,  58,  62,\n",
              "        66,  70,  74,  78,  82,  86,  90,  94,  98, 102, 106], dtype=int32)>"
            ]
          },
          "metadata": {},
          "execution_count": 14
        }
      ]
    },
    {
      "cell_type": "code",
      "source": [
        "#Visualize the Data\n",
        "import matplotlib.pyplot as plt\n",
        "plt.scatter(x , y)"
      ],
      "metadata": {
        "colab": {
          "base_uri": "https://localhost:8080/",
          "height": 447
        },
        "id": "jOmu-5UUwQgT",
        "outputId": "2b651421-9e16-4d7b-eea0-b6522594fb5e"
      },
      "execution_count": 15,
      "outputs": [
        {
          "output_type": "execute_result",
          "data": {
            "text/plain": [
              "<matplotlib.collections.PathCollection at 0x7a782bd38e80>"
            ]
          },
          "metadata": {},
          "execution_count": 15
        },
        {
          "output_type": "display_data",
          "data": {
            "text/plain": [
              "<Figure size 640x480 with 1 Axes>"
            ],
            "image/png": "[encoded data removed]"
          },
          "metadata": {}
        }
      ]
    },
    {
      "cell_type": "code",
      "source": [
        "### The 3 Sets ... Training Set , Validation Set , Test Set\n",
        "\n"
      ],
      "metadata": {
        "id": "tGBAQQ4iwcQq"
      },
      "execution_count": 16,
      "outputs": []
    },
    {
      "cell_type": "code",
      "source": [
        "#Check the length\n",
        "len(x) , len(y)"
      ],
      "metadata": {
        "colab": {
          "base_uri": "https://localhost:8080/"
        },
        "id": "hm1EJc0VxUWx",
        "outputId": "1ba81dcc-79a4-47d2-9a2f-048b02b01d80"
      },
      "execution_count": 17,
      "outputs": [
        {
          "output_type": "execute_result",
          "data": {
            "text/plain": [
              "(50, 50)"
            ]
          },
          "metadata": {},
          "execution_count": 17
        }
      ]
    },
    {
      "cell_type": "code",
      "source": [
        "#Split the data into train and test sets\n",
        "x_train = x[:40] #First 40\n",
        "x_test  = x[40:] #Last 10\n",
        "y_train = y[:40]\n",
        "y_test = y[40:]\n",
        "len(x_train) ,len(x_test) , len(y_train) , len(y_test )\n"
      ],
      "metadata": {
        "colab": {
          "base_uri": "https://localhost:8080/"
        },
        "id": "iYSuroJ4xX_d",
        "outputId": "724bae79-8ba4-4660-a54b-8cb736c9fcad"
      },
      "execution_count": 18,
      "outputs": [
        {
          "output_type": "execute_result",
          "data": {
            "text/plain": [
              "(40, 10, 40, 10)"
            ]
          },
          "metadata": {},
          "execution_count": 18
        }
      ]
    },
    {
      "cell_type": "code",
      "source": [
        "### Visualizing the Data\n",
        "plt.figure(figsize = (10 , 7))\n",
        "plt.scatter(x_train, y_train , c ='b' , label = \"Training\")\n",
        "plt.scatter(x_test, y_test , c ='g' , label = \"Test\")\n"
      ],
      "metadata": {
        "colab": {
          "base_uri": "https://localhost:8080/",
          "height": 616
        },
        "id": "BddzKkyux7_D",
        "outputId": "023a7db5-05e2-4e45-b232-94e7bff5d45a"
      },
      "execution_count": 20,
      "outputs": [
        {
          "output_type": "execute_result",
          "data": {
            "text/plain": [
              "<matplotlib.collections.PathCollection at 0x7a782b971810>"
            ]
          },
          "metadata": {},
          "execution_count": 20
        },
        {
          "output_type": "display_data",
          "data": {
            "text/plain": [
              "<Figure size 1000x700 with 1 Axes>"
            ],
            "image/png": "[encoded data removed]"
          },
          "metadata": {}
        }
      ]
    },
    {
      "cell_type": "code",
      "source": [
        "#Let's build a neural network for our data\n",
        "model = tf.keras.Sequential([\n",
        "    tf.keras.layers.Dense(1)\n",
        "])\n",
        "#Compile the model\n",
        "model.compile(loss = tf.keras.losses.mae ,\n",
        "              optimizer =tf.keras.optimizers.SGD() ,\n",
        "              metrics=[\"mae\"]\n",
        "              )\n",
        "#Fit the model\n",
        "model.fit(tf.expand_dims(x_train , axis = -1) , y_train , epochs = 100)"
      ],
      "metadata": {
        "id": "PhjAA1WgytiS"
      },
      "execution_count": null,
      "outputs": []
    },
    {
      "cell_type": "code",
      "source": [
        "#Visualize the model\n",
        "model.summary()\n",
        "#Trainable params ---> the model can update as it trains\n",
        "#Non_trainable params --->Are Not updated during training (Kinda a Transfer Learning )\n",
        "\n"
      ],
      "metadata": {
        "colab": {
          "base_uri": "https://localhost:8080/"
        },
        "id": "f6GVupBP0YeO",
        "outputId": "68223202-c642-44df-a318-d7e141c5082c"
      },
      "execution_count": 25,
      "outputs": [
        {
          "output_type": "stream",
          "name": "stdout",
          "text": [
            "Model: \"sequential_2\"\n",
            "_________________________________________________________________\n",
            " Layer (type)                Output Shape              Param #   \n",
            "=================================================================\n",
            " dense_2 (Dense)             (None, 1)                 2         \n",
            "                                                                 \n",
            "=================================================================\n",
            "Total params: 2 (8.00 Byte)\n",
            "Trainable params: 2 (8.00 Byte)\n",
            "Non-trainable params: 0 (0.00 Byte)\n",
            "_________________________________________________________________\n"
          ]
        }
      ]
    },
    {
      "cell_type": "code",
      "source": [],
      "metadata": {
        "id": "4rypm93v09pa"
      },
      "execution_count": null,
      "outputs": []
    }
  ]
}